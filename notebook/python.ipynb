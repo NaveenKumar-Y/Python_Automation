{
  "nbformat": 4,
  "nbformat_minor": 0,
  "metadata": {
    "colab": {
      "provenance": [],
      "authorship_tag": "ABX9TyPhp23P5POBN48dyhC04Kiu",
      "include_colab_link": true
    },
    "kernelspec": {
      "name": "python3",
      "display_name": "Python 3"
    },
    "language_info": {
      "name": "python"
    }
  },
  "cells": [
    {
      "cell_type": "markdown",
      "metadata": {
        "id": "view-in-github",
        "colab_type": "text"
      },
      "source": [
        "<a href=\"https://colab.research.google.com/github/NaveenKumar-Y/Python_Automation/blob/main/notebook/python.ipynb\" target=\"_parent\"><img src=\"https://colab.research.google.com/assets/colab-badge.svg\" alt=\"Open In Colab\"/></a>"
      ]
    },
    {
      "cell_type": "code",
      "execution_count": null,
      "metadata": {
        "id": "F_whWW45rBsz"
      },
      "outputs": [],
      "source": []
    },
    {
      "cell_type": "markdown",
      "source": [
        "# start"
      ],
      "metadata": {
        "id": "-L_xMfMzrFd1"
      }
    },
    {
      "cell_type": "code",
      "source": [
        "# var\n",
        "age = 20\n",
        "name = \"name\"\n",
        "num = 19.3803\n",
        "print(type(num))\n",
        "print(age , name ,num)"
      ],
      "metadata": {
        "colab": {
          "base_uri": "https://localhost:8080/"
        },
        "id": "tFnWbKFRrVEg",
        "outputId": "19fd3e42-7613-4146-ddff-fbd711ce2916"
      },
      "execution_count": null,
      "outputs": [
        {
          "output_type": "stream",
          "name": "stdout",
          "text": [
            "<class 'float'>\n",
            "20 name 19.3803\n"
          ]
        }
      ]
    },
    {
      "cell_type": "code",
      "source": [
        "# input\n",
        "name = input(\"give input: \")\n",
        "print(\"hi \" + name)"
      ],
      "metadata": {
        "colab": {
          "base_uri": "https://localhost:8080/"
        },
        "id": "vbiJba50sqMv",
        "outputId": "6fed4d21-76da-416c-ee75-c30cea2b8abc"
      },
      "execution_count": null,
      "outputs": [
        {
          "output_type": "stream",
          "name": "stdout",
          "text": [
            "give input: nani\n",
            "hi nani\n"
          ]
        }
      ]
    },
    {
      "cell_type": "code",
      "source": [
        "age = input(\"your birth year: \")\n",
        "age = 2025 - int(age)\n",
        "print(age)"
      ],
      "metadata": {
        "colab": {
          "base_uri": "https://localhost:8080/"
        },
        "id": "z1uLFwJ5toTo",
        "outputId": "f48e0109-6dc1-4169-8dc4-16413520d987"
      },
      "execution_count": null,
      "outputs": [
        {
          "output_type": "stream",
          "name": "stdout",
          "text": [
            "your birth year: 2000\n",
            "25\n"
          ]
        }
      ]
    },
    {
      "cell_type": "code",
      "source": [
        "n = 10\n",
        "print(str(n))\n",
        "print(float(n))\n",
        "print(bool(n))\n",
        "print()"
      ],
      "metadata": {
        "colab": {
          "base_uri": "https://localhost:8080/"
        },
        "id": "BNv7ZIrstxdX",
        "outputId": "838664ef-f668-4bf1-a636-ded1be1e9914"
      },
      "execution_count": null,
      "outputs": [
        {
          "output_type": "stream",
          "name": "stdout",
          "text": [
            "10\n",
            "10.0\n",
            "True\n"
          ]
        }
      ]
    },
    {
      "cell_type": "code",
      "source": [
        "n = float(input(\"n\"))\n",
        "print(n)"
      ],
      "metadata": {
        "colab": {
          "base_uri": "https://localhost:8080/"
        },
        "id": "F16gGn_-ua2F",
        "outputId": "56d123df-86d8-45f8-ff53-8cb64ee6bd19"
      },
      "execution_count": null,
      "outputs": [
        {
          "output_type": "stream",
          "name": "stdout",
          "text": [
            "n10\n",
            "10.0\n"
          ]
        }
      ]
    },
    {
      "cell_type": "code",
      "source": [
        "# trick to take default input , if given empty..\n",
        "user_input = input(\"Enter name: \") or \"Guest\"\n",
        "# If user hits Enter (empty string = False), it defaults to \"Guest\".\n",
        "print(user_input)"
      ],
      "metadata": {
        "colab": {
          "base_uri": "https://localhost:8080/"
        },
        "id": "RbvLuPbickAj",
        "outputId": "467e4bca-9f01-4ba8-b2f1-41fa4aefbdbb"
      },
      "execution_count": null,
      "outputs": [
        {
          "output_type": "stream",
          "name": "stdout",
          "text": [
            "Enter name: \n",
            "Guest\n"
          ]
        }
      ]
    },
    {
      "cell_type": "code",
      "source": [
        "# string\n",
        "%reset -f\n",
        "name = \"naveen\"\n",
        "print(name.upper())\n",
        "name.find('n')"
      ],
      "metadata": {
        "colab": {
          "base_uri": "https://localhost:8080/"
        },
        "id": "fpThTbjrueVb",
        "outputId": "facbf9b1-d303-41c9-d2f4-9b002060920f"
      },
      "execution_count": null,
      "outputs": [
        {
          "output_type": "stream",
          "name": "stdout",
          "text": [
            "NAVEEN\n"
          ]
        },
        {
          "output_type": "execute_result",
          "data": {
            "text/plain": [
              "0"
            ]
          },
          "metadata": {},
          "execution_count": 15
        }
      ]
    },
    {
      "cell_type": "code",
      "source": [
        "print(10 * \"hi \")"
      ],
      "metadata": {
        "colab": {
          "base_uri": "https://localhost:8080/"
        },
        "id": "N92HZ0QGv5_I",
        "outputId": "d1501831-a0e8-4fc9-8034-2c0f70328af5"
      },
      "execution_count": null,
      "outputs": [
        {
          "output_type": "stream",
          "name": "stdout",
          "text": [
            "hi hi hi hi hi hi hi hi hi hi \n"
          ]
        }
      ]
    },
    {
      "cell_type": "code",
      "source": [
        "name = \"naveen\"\n",
        "name2 = \"vinnu\"\n",
        "print(len(name))\n",
        "print(name[-2])\n",
        "print(name[1:3])  # [inclusive:exclusive]\n",
        "print(name[:])\n",
        "print(name[:3])\n",
        "print(name[:-1])\n",
        "\n",
        "print(f\"{name} {name2}\")  # same as - name + \" \" + name2\n",
        "print(f\"{len(name)} {name2}\")  # we can put any valid exp in curly braces\n",
        "\n",
        "print('{} comes before {}'.format('first', 'second'))  # other way of doing the above\n",
        "print('{what1} means {what2}'.format(what1='peace',what2 = 'happy'))\n",
        "\n",
        "print(name.index('n'))\n",
        "print(name.index('n',4))  # search char where index starting from 4\n",
        "print(name.index('n',1,6)) # search char where index starting from 1 and 6\n"
      ],
      "metadata": {
        "colab": {
          "base_uri": "https://localhost:8080/"
        },
        "id": "GJb7ZFt5zBMM",
        "outputId": "1a90d029-f82d-4fdc-9876-f0d77feceebd"
      },
      "execution_count": null,
      "outputs": [
        {
          "output_type": "stream",
          "name": "stdout",
          "text": [
            "6\n",
            "e\n",
            "av\n",
            "naveen\n",
            "nav\n",
            "navee\n",
            "naveen vinnu\n",
            "6 vinnu\n",
            "first comes before second\n",
            "peace means happy\n",
            "0\n",
            "5\n",
            "5\n"
          ]
        }
      ]
    },
    {
      "cell_type": "code",
      "source": [
        "name = \" Nani \"\n",
        "name.strip()\n",
        "print(name.rstrip())  # strip only to the right\n",
        "print(name.lstrip())  # strip only to the left\n",
        "# print(name.rjust(5))   # add white spaces\n",
        "x = name.rjust(5,'*')\n",
        "print(\"rjust\",x)\n",
        "print(name.count('n'))\n",
        "print(name.casefold())  # Compared to .lower(), .casefold() also handles special Unicode characters better (like the German \"ß\" becomes \"ss\").\n",
        "print(name.center(1))\n",
        "print(name.center(30, \"-\"))\n",
        "\n",
        "print(name.replace('n','m'))\n",
        "print(name.split('a'))\n",
        "print(\",\".join(['a','b','c']))\n",
        "print(name.find('j'))  # returns '-1' if not found...\n",
        "print(name.index('ni'))  # returns error if not found..\n",
        "print(name.swapcase())  # reverse the case\n",
        "\n",
        "print('ni' in name)\n",
        "\n"
      ],
      "metadata": {
        "colab": {
          "base_uri": "https://localhost:8080/"
        },
        "id": "8RvjFxjc1ZQO",
        "outputId": "9f1df7d7-3adc-4023-8249-86d691d899e9"
      },
      "execution_count": null,
      "outputs": [
        {
          "output_type": "stream",
          "name": "stdout",
          "text": [
            " Nani\n",
            "Nani \n",
            "rjust  Nani \n",
            "1\n",
            " nani \n",
            " Nani \n",
            "------------ Nani ------------\n",
            " Nami \n",
            "[' N', 'ni ']\n",
            "a,b,c\n",
            "-1\n",
            "3\n",
            " nANI \n",
            "True\n"
          ]
        }
      ]
    },
    {
      "cell_type": "code",
      "source": [
        "print(10 + 3)\n",
        "print(10 - 3)\n",
        "print(10 * 3)\n",
        "print(10 / 3)\n",
        "print(10 // 3) # division but gives integer\n",
        "print(10 ** 3) # 10 power 3\n",
        "print(10 % 3)  # remainder  # because 10 ÷ 3 = 3 remainder 1\n",
        "\n",
        "x = 0\n",
        "x += 1   # can have all above operions like this...\n",
        "print(x)"
      ],
      "metadata": {
        "colab": {
          "base_uri": "https://localhost:8080/"
        },
        "id": "vmr_0TPL1a9x",
        "outputId": "56c83ad5-8e45-48a7-cac9-9196878a77a5"
      },
      "execution_count": null,
      "outputs": [
        {
          "output_type": "stream",
          "name": "stdout",
          "text": [
            "13\n",
            "7\n",
            "30\n",
            "3.3333333333333335\n",
            "3\n",
            "1000\n",
            "1\n",
            "1\n"
          ]
        }
      ]
    },
    {
      "cell_type": "code",
      "source": [
        "print(round(1.9))\n",
        "print(abs(-1))  # make it positive no.\n",
        "# sum, avg, min, max, pow ...\n",
        "print('---')\n",
        "import math\n",
        "print(math.ceil(3.1))\n",
        "print(math.floor(3.9))\n",
        "print(math.fabs(-5))   # float abs\n",
        "print(math.pow(2, 3))\t # same as 2**3\n",
        "print(math.factorial(5))\n",
        "print(math.log(10))\n",
        "print(math.log10(100))\n",
        "print(math.exp(2))\t# e to the power of x\n",
        "print(math.gcd(8, 12))\n",
        "\n"
      ],
      "metadata": {
        "colab": {
          "base_uri": "https://localhost:8080/"
        },
        "id": "k1bCdKWx6aA3",
        "outputId": "1181c663-fe6f-479a-cc26-45c967770d65"
      },
      "execution_count": null,
      "outputs": [
        {
          "output_type": "stream",
          "name": "stdout",
          "text": [
            "2\n",
            "1\n",
            "---\n",
            "4\n",
            "3\n",
            "5.0\n",
            "8.0\n",
            "120\n",
            "2.302585092994046\n",
            "2.0\n",
            "7.38905609893065\n",
            "4\n"
          ]
        }
      ]
    },
    {
      "cell_type": "code",
      "source": [
        "print(bool(0))\n",
        "print(bool(1))\n",
        "print(bool(-1))  # anything other than 0 , \"\", None (falsy) are True...\n",
        "print(bool(\"\"))\n",
        "print(bool(\"False\"))\n",
        "print(bool(None))\n"
      ],
      "metadata": {
        "colab": {
          "base_uri": "https://localhost:8080/"
        },
        "id": "VEHjuw7E7UbU",
        "outputId": "7abb74b9-6313-4c27-be0e-a2791bffce1a"
      },
      "execution_count": null,
      "outputs": [
        {
          "output_type": "stream",
          "name": "stdout",
          "text": [
            "False\n",
            "True\n",
            "True\n",
            "False\n",
            "True\n",
            "False\n"
          ]
        }
      ]
    },
    {
      "cell_type": "code",
      "source": [
        "print(10>3)\n",
        "print(10 == 10) # = is for assignemtn and == is for comparison\n",
        "print(10<3)\n",
        "print(10 != 3)\n",
        "print(10 >= 3)\n",
        "\n",
        "print(\"naveen\" > \"nani\") # It compares character by character, from left to right, using ord() values. # here v is > n\n",
        "ord(\"v\"), ord(\"n\")\n",
        "# As soon as it finds a difference, it stops and returns the result."
      ],
      "metadata": {
        "colab": {
          "base_uri": "https://localhost:8080/"
        },
        "id": "wL-yC71I-aUk",
        "outputId": "abbb5fb5-881c-4574-b608-f2d66558b922"
      },
      "execution_count": null,
      "outputs": [
        {
          "output_type": "stream",
          "name": "stdout",
          "text": [
            "True\n",
            "True\n",
            "False\n",
            "True\n",
            "True\n",
            "True\n"
          ]
        },
        {
          "output_type": "execute_result",
          "data": {
            "text/plain": [
              "(118, 110)"
            ]
          },
          "metadata": {},
          "execution_count": 74
        }
      ]
    },
    {
      "cell_type": "code",
      "source": [
        "# ternary operator\n",
        "x=0\n",
        "print(\"hi\") if x==0 else print(\"bye\")"
      ],
      "metadata": {
        "colab": {
          "base_uri": "https://localhost:8080/"
        },
        "id": "I_xnlcrf_76G",
        "outputId": "92ce8e8f-0846-4414-cf8e-b0611b55fcb9"
      },
      "execution_count": null,
      "outputs": [
        {
          "output_type": "stream",
          "name": "stdout",
          "text": [
            "hi\n"
          ]
        }
      ]
    },
    {
      "cell_type": "code",
      "source": [
        "# logical\n",
        "# and, or, not"
      ],
      "metadata": {
        "id": "aTFaTQYrAL-J"
      },
      "execution_count": null,
      "outputs": []
    },
    {
      "cell_type": "code",
      "source": [
        "# short circuit,\n",
        "# for and ----> all conditoins should be true\n",
        "# for or  ----> if atleast one conditon is true, it is valid\n",
        "cond1 = True\n",
        "cond2 = True\n",
        "cond3 = True\n",
        "\n",
        "if cond1 and cond2 and cond3:\n",
        "    # Python checks:\n",
        "    # cond1 → is it True? yes → go on\n",
        "    # cond2 → is it True? ❌ nope → stop! skip cond3\n",
        "    print(\"all true\")\n",
        "\n",
        "\n",
        "if cond1 or cond2 or cond3:\n",
        "    # cond1 → False? okay, check next\n",
        "    # cond2 → True? boom! stop here, don't check cond3\n",
        "    print(\"atleast one is true\")\n"
      ],
      "metadata": {
        "colab": {
          "base_uri": "https://localhost:8080/"
        },
        "id": "ol-Xjx62ARWb",
        "outputId": "32443613-8749-425b-be8a-4261a7c30d80"
      },
      "execution_count": null,
      "outputs": [
        {
          "output_type": "stream",
          "name": "stdout",
          "text": [
            "all true\n",
            "atleast one is true\n"
          ]
        }
      ]
    },
    {
      "cell_type": "code",
      "source": [
        "# and → has higher priority than → or\n",
        "\n",
        "x = True\n",
        "y = False\n",
        "z = True\n",
        "\n",
        "print(x and y or z)  # → ?\n",
        "\n",
        "# since \"and\" has higher priority\n",
        "# x and y ---> evaluted first --> True and False --> False\n",
        "# then\n",
        "# False or z ---> False or True --> True"
      ],
      "metadata": {
        "colab": {
          "base_uri": "https://localhost:8080/"
        },
        "id": "tMVUlaNNeGBB",
        "outputId": "3a593039-ebd6-4cf1-a452-bd478076f37e"
      },
      "execution_count": null,
      "outputs": [
        {
          "output_type": "stream",
          "name": "stdout",
          "text": [
            "True\n"
          ]
        }
      ]
    },
    {
      "cell_type": "code",
      "source": [
        "for i in range(0,4):  # (inclusive, exclusive)\n",
        "  print(i*\"*\")\n",
        "\n",
        "for i in range(0,8,2):\n",
        "  print(i*\"*\")"
      ],
      "metadata": {
        "colab": {
          "base_uri": "https://localhost:8080/"
        },
        "id": "kKqOqvCtfMI4",
        "outputId": "99345ca0-0329-4ba8-8098-ad5d8ef743d7"
      },
      "execution_count": null,
      "outputs": [
        {
          "output_type": "stream",
          "name": "stdout",
          "text": [
            "\n",
            "*\n",
            "**\n",
            "***\n",
            "\n",
            "**\n",
            "****\n",
            "******\n"
          ]
        }
      ]
    },
    {
      "cell_type": "code",
      "source": [
        "for i in range(3):\n",
        "    for j in range(3):\n",
        "        if j == 1:\n",
        "            break  # only breaks the inner loop\n",
        "    print(\"Outer loop iteration\", i)\n",
        "# break only exits the current loop not the outer loops...\n",
        "\n",
        "######\n",
        "\n",
        "# to iterate in reverse\n",
        "nums = [1,2,4,5]\n",
        "\n",
        "for i in range(len(nums)-1,-1,-1):  # '-1' in middle, bcoz if we keep '0' index, it becomes exclusive and it stops befor '1' index,\n",
        "# so '-1' inclues 0 index...\n",
        "  print(nums[i])"
      ],
      "metadata": {
        "colab": {
          "base_uri": "https://localhost:8080/"
        },
        "id": "bKlt68ovh_lS",
        "outputId": "22efafb4-9746-4fd0-de21-d11af537d73f"
      },
      "execution_count": null,
      "outputs": [
        {
          "output_type": "stream",
          "name": "stdout",
          "text": [
            "Outer loop iteration 0\n",
            "Outer loop iteration 1\n",
            "Outer loop iteration 2\n"
          ]
        }
      ]
    },
    {
      "cell_type": "code",
      "source": [
        "for idx, val in enumerate(['a', 'b', 'c']):\n",
        "    print(idx, val)\n"
      ],
      "metadata": {
        "colab": {
          "base_uri": "https://localhost:8080/"
        },
        "id": "pnpKolOmkpf8",
        "outputId": "432f5cea-6eb6-4bfa-eefc-45f7291b6fbf"
      },
      "execution_count": null,
      "outputs": [
        {
          "output_type": "stream",
          "name": "stdout",
          "text": [
            "0 a\n",
            "1 b\n",
            "2 c\n"
          ]
        }
      ]
    },
    {
      "cell_type": "code",
      "source": [
        "names = ['Alice', 'Bob']\n",
        "scores = [85, 90]\n",
        "city = ['new youk', 'cincinati']\n",
        "for name, score, city in zip(names, scores, city):\n",
        "    print(name, score, city)\n",
        "\n"
      ],
      "metadata": {
        "colab": {
          "base_uri": "https://localhost:8080/"
        },
        "id": "0kuWS49kkxxi",
        "outputId": "9a7cf289-0bce-4904-ece3-74ada425b84b"
      },
      "execution_count": null,
      "outputs": [
        {
          "output_type": "stream",
          "name": "stdout",
          "text": [
            "Alice 85 new youk\n",
            "Bob 90 cincinati\n"
          ]
        }
      ]
    },
    {
      "cell_type": "code",
      "source": [
        "# map\n",
        "squares = list(map(lambda x: x*x, range(5)))\n",
        "print(squares)"
      ],
      "metadata": {
        "colab": {
          "base_uri": "https://localhost:8080/"
        },
        "id": "6wU_yhq7qsp5",
        "outputId": "931e04eb-0c42-4a6c-e64e-620309844c4b"
      },
      "execution_count": null,
      "outputs": [
        {
          "output_type": "stream",
          "name": "stdout",
          "text": [
            "[0, 1, 4, 9, 16]\n"
          ]
        }
      ]
    },
    {
      "cell_type": "code",
      "source": [
        "# filter\n",
        "evens = list(filter(lambda x: x % 2 == 0, range(10)))  # returns values which are True\n",
        "evens_map = list(map(lambda x: x % 2 == 0, range(10)))\n",
        "print(evens)\n",
        "print(evens_map)"
      ],
      "metadata": {
        "colab": {
          "base_uri": "https://localhost:8080/"
        },
        "id": "kFFFupecqvxe",
        "outputId": "c54840e1-2032-424e-ae1e-ca5de78f0a7e"
      },
      "execution_count": null,
      "outputs": [
        {
          "output_type": "stream",
          "name": "stdout",
          "text": [
            "[0, 2, 4, 6, 8]\n",
            "[True, False, True, False, True, False, True, False, True, False]\n"
          ]
        }
      ]
    },
    {
      "cell_type": "code",
      "source": [
        "for char in reversed('hello'):\n",
        "    print(char)\n",
        "\n",
        "nums = [5, 2, 1]\n",
        "sorted_nums = sorted(nums)\n",
        "print(sorted_nums)\n"
      ],
      "metadata": {
        "colab": {
          "base_uri": "https://localhost:8080/"
        },
        "id": "SgYrg5Poq8ci",
        "outputId": "affdc45c-86eb-443f-d3b4-537d1871c9e3"
      },
      "execution_count": null,
      "outputs": [
        {
          "output_type": "stream",
          "name": "stdout",
          "text": [
            "o\n",
            "l\n",
            "l\n",
            "e\n",
            "h\n",
            "[1, 2, 5]\n"
          ]
        }
      ]
    },
    {
      "cell_type": "code",
      "source": [
        "any([False, True])  # True\n",
        "all([True, True])   # True\n"
      ],
      "metadata": {
        "colab": {
          "base_uri": "https://localhost:8080/"
        },
        "id": "qSBjEwolq8p3",
        "outputId": "275f800a-ef49-4abf-91c7-96b5820179ac"
      },
      "execution_count": null,
      "outputs": [
        {
          "output_type": "execute_result",
          "data": {
            "text/plain": [
              "True"
            ]
          },
          "metadata": {},
          "execution_count": 45
        }
      ]
    },
    {
      "cell_type": "code",
      "source": [
        "c=\"\"\n",
        "while c!=\"quit\":\n",
        "  c = input(\">\")\n",
        "  print(\"command \",c)"
      ],
      "metadata": {
        "colab": {
          "base_uri": "https://localhost:8080/"
        },
        "id": "MOW4OWV-q8tl",
        "outputId": "6e22ecb7-be2f-4ac6-fcba-dc9d7c15b9c4"
      },
      "execution_count": null,
      "outputs": [
        {
          "output_type": "stream",
          "name": "stdout",
          "text": [
            ">hi\n",
            "command  hi\n",
            ">hi\n",
            "command  hi\n",
            ">hello\n",
            "command  hello\n",
            ">who are you?\n",
            "command  who are you?\n",
            ">quit\n",
            "command  quit\n"
          ]
        }
      ]
    },
    {
      "cell_type": "code",
      "source": [
        "print(list(range(0,11,2)))"
      ],
      "metadata": {
        "colab": {
          "base_uri": "https://localhost:8080/"
        },
        "id": "sO2Nr0FOq8wo",
        "outputId": "29472caf-99f8-4711-fb02-bd09d943305d"
      },
      "execution_count": null,
      "outputs": [
        {
          "output_type": "stream",
          "name": "stdout",
          "text": [
            "[0, 2, 4, 6, 8, 10]\n"
          ]
        }
      ]
    },
    {
      "cell_type": "code",
      "source": [
        "pip list | grep \"ipython\""
      ],
      "metadata": {
        "id": "sjPBQ4naq8zy"
      },
      "execution_count": null,
      "outputs": []
    },
    {
      "cell_type": "code",
      "source": [
        "## *args → packs positional arguments into a tuple\n",
        "\n",
        "# **kwargs → packs keyword arguments into a dictionary\n",
        "\n",
        "(1, 2, 3, name=\"Alice\", age=30)\n",
        "\n",
        "(1,2,3)  --> for *args\n",
        "{name=\"Alice\", age=30}   --> for **kwargs"
      ],
      "metadata": {
        "id": "MJAdsLlaeiCO"
      },
      "execution_count": null,
      "outputs": []
    },
    {
      "cell_type": "code",
      "source": [
        "class Devops:\n",
        "  def __init__(self,concept,time,difficulty):\n",
        "    self.concept = concept\n",
        "    self.time = time\n",
        "    self.difficulty = difficulty\n",
        "\n",
        "  def study(self):\n",
        "    print(f\"studing {self.concept} for {self.time} with difficulty {self.difficulty}\")\n",
        "\n",
        "# from devops import Devops       ## assuming the above class is in devops.py\n",
        "devops = Devops(\"k8\",\"3M\",\"Hard\")\n",
        "devops.study()\n",
        "\n",
        "##\n",
        "print(devops.concept)\n",
        "print(devops.time)\n",
        "print(devops.difficulty)\n",
        "\n"
      ],
      "metadata": {
        "id": "ZK0hk1aXq83D",
        "colab": {
          "base_uri": "https://localhost:8080/"
        },
        "outputId": "5cebd786-c226-4680-d6ea-58e759f34573"
      },
      "execution_count": null,
      "outputs": [
        {
          "output_type": "stream",
          "name": "stdout",
          "text": [
            "studing k8 for 3M with difficulty Hard\n",
            "k8\n",
            "3M\n",
            "Hard\n"
          ]
        }
      ]
    },
    {
      "cell_type": "code",
      "source": [
        "s = [i*i for i in range(10) if i%2==0]\n",
        "print(s)"
      ],
      "metadata": {
        "id": "mzC889kRq86C",
        "colab": {
          "base_uri": "https://localhost:8080/"
        },
        "outputId": "89eac308-4aa3-4651-ee68-d00d9500fbc8"
      },
      "execution_count": null,
      "outputs": [
        {
          "output_type": "stream",
          "name": "stdout",
          "text": [
            "[0, 4, 16, 36, 64]\n"
          ]
        }
      ]
    },
    {
      "cell_type": "code",
      "source": [
        "pairs = {\"key1\" : \"value1\", \"key2\": \"value2\"}\n",
        "\n",
        "print(pairs[\"key1\"])\n",
        "\n",
        "print(pairs.get(\"key2\"))\n",
        "print(pairs.get(\"key3\",\"default_value\"))\n",
        "\n",
        "pairs.keys()"
      ],
      "metadata": {
        "id": "TksMkhWpq89a",
        "colab": {
          "base_uri": "https://localhost:8080/"
        },
        "outputId": "d8552dfd-3431-4813-c33e-95c6a5e0a31f"
      },
      "execution_count": null,
      "outputs": [
        {
          "output_type": "stream",
          "name": "stdout",
          "text": [
            "value1\n",
            "value2\n",
            "default_value\n"
          ]
        },
        {
          "output_type": "execute_result",
          "data": {
            "text/plain": [
              "dict_keys(['key1', 'key2'])"
            ]
          },
          "metadata": {},
          "execution_count": 66
        }
      ]
    },
    {
      "cell_type": "code",
      "source": [
        "items = [[0, 'a', 2], [5, 'b', 0], [2, 'c', 1]]\n",
        "\n",
        "sorted(items) # sorts based on first element\n",
        "\n",
        "###\n",
        "def order(item):\n",
        "  return item[1]\n",
        "\n",
        "print(sorted(items, key=order))  # sort based on our order, by passing as a fucntion\n",
        "###\n",
        "\n",
        "# can make the above one simple using lambda\n",
        "\n",
        "sorted(items, key = lambda item: item[2])\n"
      ],
      "metadata": {
        "id": "0N-ZvswMq9BC",
        "colab": {
          "base_uri": "https://localhost:8080/"
        },
        "outputId": "18f6a901-3636-4646-ed6a-c6f45e4a6bd4"
      },
      "execution_count": null,
      "outputs": [
        {
          "output_type": "stream",
          "name": "stdout",
          "text": [
            "[[0, 'a', 2], [5, 'b', 0], [2, 'c', 1]]\n"
          ]
        },
        {
          "output_type": "execute_result",
          "data": {
            "text/plain": [
              "[[5, 'b', 0], [2, 'c', 1], [0, 'a', 2]]"
            ]
          },
          "metadata": {},
          "execution_count": 82
        }
      ]
    },
    {
      "cell_type": "code",
      "source": [
        "# tuple has less memory than a list, when same content is stored..."
      ],
      "metadata": {
        "id": "Jns65xLl9w8y"
      },
      "execution_count": null,
      "outputs": []
    },
    {
      "cell_type": "code",
      "source": [
        "import re\n",
        "\n",
        "text = \"naveen nani vijay sunny <holiday> randon...\"\n",
        "print(re.search(r'naveen', text))\n",
        "bool(re.search(r'naveen', text))\n",
        "\n",
        "# patterns search\n",
        "print(re.findall(r'[n,v]ave*[n]', text))\n",
        "print(re.findall(r'[n,v]av*', text))\n",
        "\n",
        "# Some commonly used ones are \\w, which is equivalent to [a-zA-Z0-9_]\n",
        "# and \\d, which is equivalent to [0-9].\n",
        "\n",
        "print(re.findall(r'\\w+', \"who hi &(&^))\")) # finds all\n",
        "print(re.search(r'\\w+', \"who hi &(&^))\")) # gets first matchable object\n",
        "\n",
        "print(re.findall(r'\\d', \"who 12 2345 0&(&^))\")) # find numbers\n",
        "print(re.findall(r'\\d+', \"who 12 2345 0&(&^))\")) #  find numbers combinations\n",
        "\n",
        "# if we use '+' it means the search can be a combined word...\n",
        "\n",
        "\n",
        "# sub\n",
        "print(re.sub(\"\\d\", \"#\", \"The passcode you entered was 09876\"))\n",
        "\n",
        "# find mail id's\n",
        "mail = \"name=naveen ph= xxxxx, hi naveen.yerravarapu@gmail.com 9093 vijay.yerravarapu@outlook.com\"\n",
        "print(re.findall(r'\\w+\\.\\w+\\@\\w+\\.\\w+', mail))\n",
        "print(re.findall(r'\\w+\\@\\w+\\.\\w+', mail))\n",
        "\n",
        "#####\n",
        "pattern = re.compile(r'\\d+')  # Matches one or more digits\n",
        "# compile to reuse a pattern multiple times to imporve performance...\n",
        "\n",
        "result = pattern.findall(\"There are 123 apples and 45 bananas\")\n",
        "print(result)  # ['123', '45']\n",
        "\n"
      ],
      "metadata": {
        "id": "8DXkBTnOq9EF",
        "colab": {
          "base_uri": "https://localhost:8080/"
        },
        "outputId": "c21a91ab-0fa8-4f4b-f838-39f6d7d0302f"
      },
      "execution_count": null,
      "outputs": [
        {
          "output_type": "stream",
          "name": "stdout",
          "text": [
            "<re.Match object; span=(0, 6), match='naveen'>\n",
            "['naveen']\n",
            "['nav', 'na']\n",
            "['who', 'hi']\n",
            "<re.Match object; span=(0, 3), match='who'>\n",
            "['1', '2', '2', '3', '4', '5', '0']\n",
            "['12', '2345', '0']\n",
            "The passcode you entered was #####\n",
            "['naveen.yerravarapu@gmail.com', 'vijay.yerravarapu@outlook.com']\n",
            "['yerravarapu@gmail.com', 'yerravarapu@outlook.com']\n",
            "['123', '45']\n"
          ]
        }
      ]
    },
    {
      "cell_type": "code",
      "source": [
        "# lazy evalulation...\n",
        "# iterate funtion each time we call using yield..\n",
        "# the generator keeps track of its state\n",
        "\n",
        "def fib():\n",
        "  first = 0\n",
        "  last = 1\n",
        "  while True:\n",
        "    first, last = last, first + last\n",
        "    yield first\n",
        "\n",
        "f = fib()\n",
        "next(f)"
      ],
      "metadata": {
        "id": "a5SBdzXiq9IY",
        "colab": {
          "base_uri": "https://localhost:8080/"
        },
        "outputId": "6d42f26b-0cba-463e-e8bd-5c178c19b983"
      },
      "execution_count": null,
      "outputs": [
        {
          "output_type": "execute_result",
          "data": {
            "text/plain": [
              "1"
            ]
          },
          "metadata": {},
          "execution_count": 11
        }
      ]
    },
    {
      "cell_type": "code",
      "source": [
        "next(f) # each time we run next(object) it's gonna give next iterative result...."
      ],
      "metadata": {
        "id": "RafShy3rq9L7",
        "colab": {
          "base_uri": "https://localhost:8080/"
        },
        "outputId": "e0cf74dd-d268-4985-bf67-ab0c81fa1880"
      },
      "execution_count": null,
      "outputs": [
        {
          "output_type": "execute_result",
          "data": {
            "text/plain": [
              "21"
            ]
          },
          "metadata": {},
          "execution_count": 18
        }
      ]
    },
    {
      "cell_type": "code",
      "source": [
        "def e_or_o():\n",
        "  i = 0\n",
        "  while True:\n",
        "    i = i+1\n",
        "    yield i\n",
        "e = e_or_o()"
      ],
      "metadata": {
        "id": "YjficDp_F2wV"
      },
      "execution_count": null,
      "outputs": []
    },
    {
      "cell_type": "code",
      "source": [
        "next(e)"
      ],
      "metadata": {
        "colab": {
          "base_uri": "https://localhost:8080/"
        },
        "id": "C7C9so_zGFMA",
        "outputId": "60a73ebc-717a-4a3b-8fbd-39bd551ff7e8"
      },
      "execution_count": null,
      "outputs": [
        {
          "output_type": "execute_result",
          "data": {
            "text/plain": [
              "5"
            ]
          },
          "metadata": {},
          "execution_count": 83
        }
      ]
    },
    {
      "cell_type": "code",
      "source": [
        "ls = !ls -l\n",
        "print(ls)\n",
        "\n",
        "# can run linux commands using python using ! ...."
      ],
      "metadata": {
        "id": "Y7tr4W7cq9PW",
        "colab": {
          "base_uri": "https://localhost:8080/"
        },
        "outputId": "7190c050-39f5-4fe3-d6d7-d26dc405cd70"
      },
      "execution_count": null,
      "outputs": [
        {
          "output_type": "stream",
          "name": "stdout",
          "text": [
            "['total 4', 'drwxr-xr-x 1 root root 4096 Apr  3 13:37 sample_data']\n"
          ]
        }
      ]
    },
    {
      "cell_type": "markdown",
      "source": [
        "Ipython\n"
      ],
      "metadata": {
        "id": "fQNMHDWIq9SR"
      }
    },
    {
      "cell_type": "code",
      "source": [
        "# Python lets me blend shell commands and Python logic in one place.\n",
        "# can automate tasks like log parsing, system monitoring, or cloud provisioning scripts efficiently,\n",
        "# and even use notebooks to document and share it\n",
        "\n",
        "'''\n",
        " print(!pwd) # won't work\n",
        "'''\n",
        "\n",
        "# ✅ Works in IPython shell or Jupyter Notebook\n",
        "# ❌ Doesn’t work in standard Python script\n",
        "\n",
        "pwd = !pwd\n",
        "print(pwd)\n",
        "\n",
        "services = !systemctl list-unit-files | grep enabled\n",
        "print(services)\n",
        "\n",
        "uptime = !uptime\n",
        "print(uptime)\n",
        "\n",
        "addr = !hostname -i\n",
        "print(addr)\n",
        "\n",
        "# an object that has three main\n",
        "# methods: fields, grep, and sort.\n",
        "services.grep('disk')\n",
        "\n",
        "# every output gives a list, where we can access the elements\n",
        "\n",
        "\n"
      ],
      "metadata": {
        "id": "YdMwk2zQq9ZP",
        "colab": {
          "base_uri": "https://localhost:8080/"
        },
        "outputId": "7d3f5093-6a88-4c43-9e8f-3ed79348f7e8"
      },
      "execution_count": null,
      "outputs": [
        {
          "output_type": "stream",
          "name": "stdout",
          "text": [
            "['/content']\n",
            "['cryptdisks-early.service               masked   enabled', 'cryptdisks.service                     masked   enabled', 'e2scrub_reap.service                   enabled  enabled', 'fio.service                            disabled enabled', 'getty@.service                         enabled  enabled', 'hwclock.service                        masked   enabled', 'rc.service                             masked   enabled', 'rcS.service                            masked   enabled', 'rsync.service                          disabled enabled', 'serial-getty@.service                  disabled enabled', 'sudo.service                           masked   enabled', 'systemd-network-generator.service      disabled enabled', 'systemd-networkd.service               disabled enabled', 'systemd-pstore.service                 enabled  enabled', 'systemd-resolved.service               enabled  enabled', 'systemd-sysext.service                 disabled enabled', 'x11-common.service                     masked   enabled', 'systemd-networkd.socket                disabled enabled', 'reboot.target                          disabled enabled', 'remote-cryptsetup.target               disabled enabled', 'remote-fs.target                       enabled  enabled', 'remote-veritysetup.target              disabled enabled', 'apt-daily-upgrade.timer                enabled  enabled', 'apt-daily.timer                        enabled  enabled', 'dpkg-db-backup.timer                   enabled  enabled', 'e2scrub_all.timer                      enabled  enabled', 'fstrim.timer                           enabled  enabled', 'man-db.timer                           enabled  enabled', 'motd-news.timer                        enabled  enabled']\n",
            "[' 12:16:08 up 30 min,  0 users,  load average: 0.58, 0.51, 0.41']\n",
            "['172.28.0.12']\n"
          ]
        },
        {
          "output_type": "execute_result",
          "data": {
            "text/plain": [
              "['cryptdisks-early.service               masked   enabled',\n",
              " 'cryptdisks.service                     masked   enabled']"
            ]
          },
          "metadata": {},
          "execution_count": 37
        }
      ]
    },
    {
      "cell_type": "code",
      "source": [
        "# alternative to ipython is using module subprocess\n",
        "import subprocess\n",
        "output = subprocess.check_output(\"ls\", shell=True, text=True)\n",
        "print(output)"
      ],
      "metadata": {
        "id": "Tl9e0hSAq9dB",
        "colab": {
          "base_uri": "https://localhost:8080/"
        },
        "outputId": "04e054a1-e06b-491b-e717-e39df324abab"
      },
      "execution_count": null,
      "outputs": [
        {
          "output_type": "stream",
          "name": "stdout",
          "text": [
            "sample_data\n",
            "\n"
          ]
        }
      ]
    },
    {
      "cell_type": "code",
      "source": [
        "# ipython magic commands...\n",
        "# % --> single line commands\n",
        "# %% --> entire cell\n",
        "%%bash\n",
        "uname -a\n",
        "pwd"
      ],
      "metadata": {
        "id": "fHv02uhuq9g1",
        "colab": {
          "base_uri": "https://localhost:8080/"
        },
        "outputId": "4491c351-54e0-4ed2-a4f6-593693fb95c7"
      },
      "execution_count": null,
      "outputs": [
        {
          "output_type": "stream",
          "name": "stdout",
          "text": [
            "Linux ed924e085f03 6.1.85+ #1 SMP PREEMPT_DYNAMIC Thu Jun 27 21:05:47 UTC 2024 x86_64 x86_64 x86_64 GNU/Linux\n",
            "/content\n"
          ]
        }
      ]
    },
    {
      "cell_type": "code",
      "source": [
        "%cat sample_data/README.md"
      ],
      "metadata": {
        "colab": {
          "base_uri": "https://localhost:8080/"
        },
        "collapsed": true,
        "id": "WLKsnrivCuQe",
        "outputId": "7e5bd491-9552-45fc-ed61-a5a6cec60dc9"
      },
      "execution_count": null,
      "outputs": [
        {
          "output_type": "stream",
          "name": "stdout",
          "text": [
            "This directory includes a few sample datasets to get you started.\n",
            "\n",
            "*   `california_housing_data*.csv` is California housing data from the 1990 US\n",
            "    Census; more information is available at:\n",
            "    https://docs.google.com/document/d/e/2PACX-1vRhYtsvc5eOR2FWNCwaBiKL6suIOrxJig8LcSBbmCbyYsayia_DvPOOBlXZ4CAlQ5nlDD8kTaIDRwrN/pub\n",
            "\n",
            "*   `mnist_*.csv` is a small sample of the\n",
            "    [MNIST database](https://en.wikipedia.org/wiki/MNIST_database), which is\n",
            "    described at: http://yann.lecun.com/exdb/mnist/\n",
            "\n",
            "*   `anscombe.json` contains a copy of\n",
            "    [Anscombe's quartet](https://en.wikipedia.org/wiki/Anscombe%27s_quartet); it\n",
            "    was originally described in\n",
            "\n",
            "    Anscombe, F. J. (1973). 'Graphs in Statistical Analysis'. American\n",
            "    Statistician. 27 (1): 17-21. JSTOR 2682899.\n",
            "\n",
            "    and our copy was prepared by the\n",
            "    [vega_datasets library](https://github.com/altair-viz/vega_datasets/blob/4f67bdaad10f45e3549984e17e1b3088c731503d/vega_datasets/_data/anscombe.json).\n"
          ]
        }
      ]
    },
    {
      "cell_type": "code",
      "source": [
        "%history  #history of python run commands\n",
        "%lsmagic # list all magic commands..."
      ],
      "metadata": {
        "colab": {
          "base_uri": "https://localhost:8080/",
          "height": 1000
        },
        "collapsed": true,
        "id": "qCMag2LOCuUi",
        "outputId": "397b90f6-7f44-402d-e005-dc838f8a385c"
      },
      "execution_count": null,
      "outputs": [
        {
          "output_type": "execute_result",
          "data": {
            "text/plain": [
              "Available line magics:\n",
              "%alias  %alias_magic  %autoawait  %autocall  %automagic  %autosave  %bookmark  %cat  %cd  %clear  %colors  %conda  %config  %connect_info  %cp  %debug  %dhist  %dirs  %doctest_mode  %ed  %edit  %env  %gui  %hist  %history  %killbgscripts  %ldir  %less  %lf  %lk  %ll  %load  %load_ext  %loadpy  %logoff  %logon  %logstart  %logstate  %logstop  %ls  %lsmagic  %lx  %macro  %magic  %man  %matplotlib  %mkdir  %more  %mv  %notebook  %page  %pastebin  %pdb  %pdef  %pdoc  %pfile  %pinfo  %pinfo2  %pip  %popd  %pprint  %precision  %prun  %psearch  %psource  %pushd  %pwd  %pycat  %pylab  %qtconsole  %quickref  %recall  %rehashx  %reload_ext  %rep  %rerun  %reset  %reset_selective  %rm  %rmdir  %run  %save  %sc  %set_env  %shell  %store  %sx  %system  %tb  %tensorflow_version  %time  %timeit  %unalias  %unload_ext  %who  %who_ls  %whos  %xdel  %xmode\n",
              "\n",
              "Available cell magics:\n",
              "%%!  %%HTML  %%SVG  %%bash  %%bigquery  %%bqsql  %%capture  %%debug  %%file  %%html  %%javascript  %%js  %%latex  %%markdown  %%perl  %%prun  %%pypy  %%python  %%python2  %%python3  %%ruby  %%script  %%sh  %%shell  %%spanner_graph  %%svg  %%sx  %%system  %%time  %%timeit  %%writefile\n",
              "\n",
              "Automagic is ON, % prefix IS NOT needed for line magics."
            ],
            "application/json": {
              "line": {
                "automagic": "AutoMagics",
                "autocall": "AutoMagics",
                "alias_magic": "BasicMagics",
                "lsmagic": "BasicMagics",
                "magic": "BasicMagics",
                "page": "BasicMagics",
                "pprint": "BasicMagics",
                "colors": "BasicMagics",
                "xmode": "BasicMagics",
                "quickref": "BasicMagics",
                "doctest_mode": "BasicMagics",
                "gui": "BasicMagics",
                "precision": "BasicMagics",
                "notebook": "BasicMagics",
                "save": "CodeMagics",
                "pastebin": "CodeMagics",
                "loadpy": "CodeMagics",
                "load": "CodeMagics",
                "edit": "KernelMagics",
                "config": "ConfigMagics",
                "prun": "ExecutionMagics",
                "pdb": "ExecutionMagics",
                "debug": "ExecutionMagics",
                "tb": "ExecutionMagics",
                "run": "ExecutionMagics",
                "timeit": "ExecutionMagics",
                "time": "ExecutionMagics",
                "macro": "ExecutionMagics",
                "load_ext": "ExtensionMagics",
                "unload_ext": "ExtensionMagics",
                "reload_ext": "ExtensionMagics",
                "history": "HistoryMagics",
                "recall": "HistoryMagics",
                "rerun": "HistoryMagics",
                "logstart": "LoggingMagics",
                "logstop": "LoggingMagics",
                "logoff": "LoggingMagics",
                "logon": "LoggingMagics",
                "logstate": "LoggingMagics",
                "pinfo": "NamespaceMagics",
                "pinfo2": "NamespaceMagics",
                "pdef": "NamespaceMagics",
                "pdoc": "NamespaceMagics",
                "psource": "NamespaceMagics",
                "pfile": "NamespaceMagics",
                "psearch": "NamespaceMagics",
                "who_ls": "NamespaceMagics",
                "who": "NamespaceMagics",
                "whos": "NamespaceMagics",
                "reset": "NamespaceMagics",
                "reset_selective": "NamespaceMagics",
                "xdel": "NamespaceMagics",
                "alias": "OSMagics",
                "unalias": "OSMagics",
                "rehashx": "OSMagics",
                "pwd": "OSMagics",
                "cd": "OSMagics",
                "env": "OSMagics",
                "set_env": "OSMagics",
                "pushd": "OSMagics",
                "popd": "OSMagics",
                "dirs": "OSMagics",
                "dhist": "OSMagics",
                "sc": "OSMagics",
                "sx": "OSMagics",
                "system": "OSMagics",
                "bookmark": "OSMagics",
                "pycat": "OSMagics",
                "pip": "Other",
                "conda": "PackagingMagics",
                "matplotlib": "PylabMagics",
                "pylab": "PylabMagics",
                "killbgscripts": "ScriptMagics",
                "autoawait": "AsyncMagics",
                "ed": "Other",
                "hist": "Other",
                "rep": "Other",
                "clear": "KernelMagics",
                "less": "KernelMagics",
                "more": "KernelMagics",
                "man": "KernelMagics",
                "connect_info": "KernelMagics",
                "qtconsole": "KernelMagics",
                "autosave": "KernelMagics",
                "mkdir": "Other",
                "rmdir": "Other",
                "mv": "Other",
                "rm": "Other",
                "cp": "Other",
                "cat": "Other",
                "ls": "Other",
                "ll": "Other",
                "lf": "Other",
                "lk": "Other",
                "ldir": "Other",
                "lx": "Other",
                "store": "StoreMagics",
                "shell": "Other",
                "tensorflow_version": "Other"
              },
              "cell": {
                "js": "DisplayMagics",
                "javascript": "DisplayMagics",
                "latex": "DisplayMagics",
                "svg": "DisplayMagics",
                "html": "DisplayMagics",
                "markdown": "DisplayMagics",
                "prun": "ExecutionMagics",
                "debug": "ExecutionMagics",
                "timeit": "ExecutionMagics",
                "time": "ExecutionMagics",
                "capture": "ExecutionMagics",
                "sx": "OSMagics",
                "system": "OSMagics",
                "!": "OSMagics",
                "writefile": "OSMagics",
                "script": "ScriptMagics",
                "sh": "Other",
                "bash": "Other",
                "perl": "Other",
                "ruby": "Other",
                "python": "Other",
                "python2": "Other",
                "python3": "Other",
                "pypy": "Other",
                "SVG": "Other",
                "HTML": "Other",
                "file": "Other",
                "bigquery": "Other",
                "spanner_graph": "NetworkVisualizationMagics",
                "shell": "Other",
                "bqsql": "Other"
              }
            }
          },
          "metadata": {},
          "execution_count": 49
        }
      ]
    },
    {
      "cell_type": "code",
      "source": [
        "%%writefile test.py\n",
        "print(\"hello\")"
      ],
      "metadata": {
        "colab": {
          "base_uri": "https://localhost:8080/"
        },
        "id": "zAQJG-2ECuYA",
        "outputId": "90690f3b-7c13-40f7-beb8-1a1f60417319"
      },
      "execution_count": null,
      "outputs": [
        {
          "output_type": "stream",
          "name": "stdout",
          "text": [
            "Writing test.py\n"
          ]
        }
      ]
    },
    {
      "cell_type": "code",
      "source": [
        "!python test.py"
      ],
      "metadata": {
        "colab": {
          "base_uri": "https://localhost:8080/"
        },
        "id": "J7YvgtJKCubJ",
        "outputId": "b61ec49a-f077-4f9e-8c6b-1b3f97dd9214"
      },
      "execution_count": null,
      "outputs": [
        {
          "output_type": "stream",
          "name": "stdout",
          "text": [
            "hello\n"
          ]
        }
      ]
    },
    {
      "cell_type": "markdown",
      "source": [
        "## Files\n"
      ],
      "metadata": {
        "id": "-dSnmxAPC0Bw"
      }
    },
    {
      "cell_type": "code",
      "source": [
        "import yaml\n",
        "import json\n",
        "import pathlib\n",
        "from pprint import pprint\n",
        "import csv\n",
        "\n"
      ],
      "metadata": {
        "id": "ZW09NgcOCueD",
        "colab": {
          "base_uri": "https://localhost:8080/",
          "height": 106
        },
        "outputId": "d9ebbe96-f4be-4d3f-96d4-79e12b9c2d8b"
      },
      "execution_count": 11,
      "outputs": [
        {
          "output_type": "error",
          "ename": "SyntaxError",
          "evalue": "invalid syntax (<ipython-input-11-2856cfd12bce>, line 9)",
          "traceback": [
            "\u001b[0;36m  File \u001b[0;32m\"<ipython-input-11-2856cfd12bce>\"\u001b[0;36m, line \u001b[0;32m9\u001b[0m\n\u001b[0;31m    mkdir files/\u001b[0m\n\u001b[0m          ^\u001b[0m\n\u001b[0;31mSyntaxError\u001b[0m\u001b[0;31m:\u001b[0m invalid syntax\n"
          ]
        }
      ]
    },
    {
      "cell_type": "code",
      "source": [
        "%%bash\n",
        "mkdir files/\n",
        "cd files\n",
        "ls -larth\n",
        "pwd\n",
        "touch /content/files/sample.txt\n",
        "touch sample_data/policy.json\n",
        "touch sample_data/inventory.yaml"
      ],
      "metadata": {
        "colab": {
          "base_uri": "https://localhost:8080/",
          "height": 495
        },
        "id": "SV0ubGT3xmNw",
        "outputId": "3cf346a6-8011-4498-e989-eb426d8aeed9"
      },
      "execution_count": 13,
      "outputs": [
        {
          "output_type": "stream",
          "name": "stdout",
          "text": [
            "total 12K\n",
            "drwxr-xr-x 1 root root 4.0K Apr  7 15:02 ..\n",
            "-rw-r--r-- 1 root root    0 Apr  7 15:02 sample.txt\n",
            "drwxr-xr-x 2 root root 4.0K Apr  7 15:02 .\n",
            "/content/files\n"
          ]
        },
        {
          "output_type": "stream",
          "name": "stderr",
          "text": [
            "mkdir: cannot create directory ‘files/’: File exists\n",
            "touch: cannot touch 'sample_data/policy.json': No such file or directory\n",
            "touch: cannot touch 'sample_data/inventory.yaml': No such file or directory\n"
          ]
        },
        {
          "output_type": "error",
          "ename": "CalledProcessError",
          "evalue": "Command 'b'mkdir files/\\ncd files\\nls -larth\\npwd\\ntouch /content/files/sample.txt\\ntouch sample_data/policy.json\\ntouch sample_data/inventory.yaml \\n'' returned non-zero exit status 1.",
          "traceback": [
            "\u001b[0;31m---------------------------------------------------------------------------\u001b[0m",
            "\u001b[0;31mCalledProcessError\u001b[0m                        Traceback (most recent call last)",
            "\u001b[0;32m<ipython-input-13-ac7148f0d4b8>\u001b[0m in \u001b[0;36m<cell line: 0>\u001b[0;34m()\u001b[0m\n\u001b[0;32m----> 1\u001b[0;31m \u001b[0mget_ipython\u001b[0m\u001b[0;34m(\u001b[0m\u001b[0;34m)\u001b[0m\u001b[0;34m.\u001b[0m\u001b[0mrun_cell_magic\u001b[0m\u001b[0;34m(\u001b[0m\u001b[0;34m'bash'\u001b[0m\u001b[0;34m,\u001b[0m \u001b[0;34m''\u001b[0m\u001b[0;34m,\u001b[0m \u001b[0;34m'mkdir files/\\ncd files\\nls -larth\\npwd\\ntouch /content/files/sample.txt\\ntouch sample_data/policy.json\\ntouch sample_data/inventory.yaml \\n'\u001b[0m\u001b[0;34m)\u001b[0m\u001b[0;34m\u001b[0m\u001b[0;34m\u001b[0m\u001b[0m\n\u001b[0m",
            "\u001b[0;32m/usr/local/lib/python3.11/dist-packages/google/colab/_shell.py\u001b[0m in \u001b[0;36mrun_cell_magic\u001b[0;34m(self, magic_name, line, cell)\u001b[0m\n\u001b[1;32m    356\u001b[0m     \u001b[0;32mif\u001b[0m \u001b[0mline\u001b[0m \u001b[0;32mand\u001b[0m \u001b[0;32mnot\u001b[0m \u001b[0mcell\u001b[0m\u001b[0;34m:\u001b[0m\u001b[0;34m\u001b[0m\u001b[0;34m\u001b[0m\u001b[0m\n\u001b[1;32m    357\u001b[0m       \u001b[0mcell\u001b[0m \u001b[0;34m=\u001b[0m \u001b[0;34m' '\u001b[0m\u001b[0;34m\u001b[0m\u001b[0;34m\u001b[0m\u001b[0m\n\u001b[0;32m--> 358\u001b[0;31m     \u001b[0;32mreturn\u001b[0m \u001b[0msuper\u001b[0m\u001b[0;34m(\u001b[0m\u001b[0;34m)\u001b[0m\u001b[0;34m.\u001b[0m\u001b[0mrun_cell_magic\u001b[0m\u001b[0;34m(\u001b[0m\u001b[0mmagic_name\u001b[0m\u001b[0;34m,\u001b[0m \u001b[0mline\u001b[0m\u001b[0;34m,\u001b[0m \u001b[0mcell\u001b[0m\u001b[0;34m)\u001b[0m\u001b[0;34m\u001b[0m\u001b[0;34m\u001b[0m\u001b[0m\n\u001b[0m\u001b[1;32m    359\u001b[0m \u001b[0;34m\u001b[0m\u001b[0m\n\u001b[1;32m    360\u001b[0m \u001b[0;34m\u001b[0m\u001b[0m\n",
            "\u001b[0;32m/usr/local/lib/python3.11/dist-packages/IPython/core/interactiveshell.py\u001b[0m in \u001b[0;36mrun_cell_magic\u001b[0;34m(self, magic_name, line, cell)\u001b[0m\n\u001b[1;32m   2471\u001b[0m             \u001b[0;32mwith\u001b[0m \u001b[0mself\u001b[0m\u001b[0;34m.\u001b[0m\u001b[0mbuiltin_trap\u001b[0m\u001b[0;34m:\u001b[0m\u001b[0;34m\u001b[0m\u001b[0;34m\u001b[0m\u001b[0m\n\u001b[1;32m   2472\u001b[0m                 \u001b[0margs\u001b[0m \u001b[0;34m=\u001b[0m \u001b[0;34m(\u001b[0m\u001b[0mmagic_arg_s\u001b[0m\u001b[0;34m,\u001b[0m \u001b[0mcell\u001b[0m\u001b[0;34m)\u001b[0m\u001b[0;34m\u001b[0m\u001b[0;34m\u001b[0m\u001b[0m\n\u001b[0;32m-> 2473\u001b[0;31m                 \u001b[0mresult\u001b[0m \u001b[0;34m=\u001b[0m \u001b[0mfn\u001b[0m\u001b[0;34m(\u001b[0m\u001b[0;34m*\u001b[0m\u001b[0margs\u001b[0m\u001b[0;34m,\u001b[0m \u001b[0;34m**\u001b[0m\u001b[0mkwargs\u001b[0m\u001b[0;34m)\u001b[0m\u001b[0;34m\u001b[0m\u001b[0;34m\u001b[0m\u001b[0m\n\u001b[0m\u001b[1;32m   2474\u001b[0m             \u001b[0;32mreturn\u001b[0m \u001b[0mresult\u001b[0m\u001b[0;34m\u001b[0m\u001b[0;34m\u001b[0m\u001b[0m\n\u001b[1;32m   2475\u001b[0m \u001b[0;34m\u001b[0m\u001b[0m\n",
            "\u001b[0;32m/usr/local/lib/python3.11/dist-packages/IPython/core/magics/script.py\u001b[0m in \u001b[0;36mnamed_script_magic\u001b[0;34m(line, cell)\u001b[0m\n\u001b[1;32m    140\u001b[0m             \u001b[0;32melse\u001b[0m\u001b[0;34m:\u001b[0m\u001b[0;34m\u001b[0m\u001b[0;34m\u001b[0m\u001b[0m\n\u001b[1;32m    141\u001b[0m                 \u001b[0mline\u001b[0m \u001b[0;34m=\u001b[0m \u001b[0mscript\u001b[0m\u001b[0;34m\u001b[0m\u001b[0;34m\u001b[0m\u001b[0m\n\u001b[0;32m--> 142\u001b[0;31m             \u001b[0;32mreturn\u001b[0m \u001b[0mself\u001b[0m\u001b[0;34m.\u001b[0m\u001b[0mshebang\u001b[0m\u001b[0;34m(\u001b[0m\u001b[0mline\u001b[0m\u001b[0;34m,\u001b[0m \u001b[0mcell\u001b[0m\u001b[0;34m)\u001b[0m\u001b[0;34m\u001b[0m\u001b[0;34m\u001b[0m\u001b[0m\n\u001b[0m\u001b[1;32m    143\u001b[0m \u001b[0;34m\u001b[0m\u001b[0m\n\u001b[1;32m    144\u001b[0m         \u001b[0;31m# write a basic docstring:\u001b[0m\u001b[0;34m\u001b[0m\u001b[0;34m\u001b[0m\u001b[0m\n",
            "\u001b[0;32m<decorator-gen-103>\u001b[0m in \u001b[0;36mshebang\u001b[0;34m(self, line, cell)\u001b[0m\n",
            "\u001b[0;32m/usr/local/lib/python3.11/dist-packages/IPython/core/magic.py\u001b[0m in \u001b[0;36m<lambda>\u001b[0;34m(f, *a, **k)\u001b[0m\n\u001b[1;32m    185\u001b[0m     \u001b[0;31m# but it's overkill for just that one bit of state.\u001b[0m\u001b[0;34m\u001b[0m\u001b[0;34m\u001b[0m\u001b[0m\n\u001b[1;32m    186\u001b[0m     \u001b[0;32mdef\u001b[0m \u001b[0mmagic_deco\u001b[0m\u001b[0;34m(\u001b[0m\u001b[0marg\u001b[0m\u001b[0;34m)\u001b[0m\u001b[0;34m:\u001b[0m\u001b[0;34m\u001b[0m\u001b[0;34m\u001b[0m\u001b[0m\n\u001b[0;32m--> 187\u001b[0;31m         \u001b[0mcall\u001b[0m \u001b[0;34m=\u001b[0m \u001b[0;32mlambda\u001b[0m \u001b[0mf\u001b[0m\u001b[0;34m,\u001b[0m \u001b[0;34m*\u001b[0m\u001b[0ma\u001b[0m\u001b[0;34m,\u001b[0m \u001b[0;34m**\u001b[0m\u001b[0mk\u001b[0m\u001b[0;34m:\u001b[0m \u001b[0mf\u001b[0m\u001b[0;34m(\u001b[0m\u001b[0;34m*\u001b[0m\u001b[0ma\u001b[0m\u001b[0;34m,\u001b[0m \u001b[0;34m**\u001b[0m\u001b[0mk\u001b[0m\u001b[0;34m)\u001b[0m\u001b[0;34m\u001b[0m\u001b[0;34m\u001b[0m\u001b[0m\n\u001b[0m\u001b[1;32m    188\u001b[0m \u001b[0;34m\u001b[0m\u001b[0m\n\u001b[1;32m    189\u001b[0m         \u001b[0;32mif\u001b[0m \u001b[0mcallable\u001b[0m\u001b[0;34m(\u001b[0m\u001b[0marg\u001b[0m\u001b[0;34m)\u001b[0m\u001b[0;34m:\u001b[0m\u001b[0;34m\u001b[0m\u001b[0;34m\u001b[0m\u001b[0m\n",
            "\u001b[0;32m/usr/local/lib/python3.11/dist-packages/IPython/core/magics/script.py\u001b[0m in \u001b[0;36mshebang\u001b[0;34m(self, line, cell)\u001b[0m\n\u001b[1;32m    243\u001b[0m             \u001b[0msys\u001b[0m\u001b[0;34m.\u001b[0m\u001b[0mstderr\u001b[0m\u001b[0;34m.\u001b[0m\u001b[0mflush\u001b[0m\u001b[0;34m(\u001b[0m\u001b[0;34m)\u001b[0m\u001b[0;34m\u001b[0m\u001b[0;34m\u001b[0m\u001b[0m\n\u001b[1;32m    244\u001b[0m         \u001b[0;32mif\u001b[0m \u001b[0margs\u001b[0m\u001b[0;34m.\u001b[0m\u001b[0mraise_error\u001b[0m \u001b[0;32mand\u001b[0m \u001b[0mp\u001b[0m\u001b[0;34m.\u001b[0m\u001b[0mreturncode\u001b[0m\u001b[0;34m!=\u001b[0m\u001b[0;36m0\u001b[0m\u001b[0;34m:\u001b[0m\u001b[0;34m\u001b[0m\u001b[0;34m\u001b[0m\u001b[0m\n\u001b[0;32m--> 245\u001b[0;31m             \u001b[0;32mraise\u001b[0m \u001b[0mCalledProcessError\u001b[0m\u001b[0;34m(\u001b[0m\u001b[0mp\u001b[0m\u001b[0;34m.\u001b[0m\u001b[0mreturncode\u001b[0m\u001b[0;34m,\u001b[0m \u001b[0mcell\u001b[0m\u001b[0;34m,\u001b[0m \u001b[0moutput\u001b[0m\u001b[0;34m=\u001b[0m\u001b[0mout\u001b[0m\u001b[0;34m,\u001b[0m \u001b[0mstderr\u001b[0m\u001b[0;34m=\u001b[0m\u001b[0merr\u001b[0m\u001b[0;34m)\u001b[0m\u001b[0;34m\u001b[0m\u001b[0;34m\u001b[0m\u001b[0m\n\u001b[0m\u001b[1;32m    246\u001b[0m \u001b[0;34m\u001b[0m\u001b[0m\n\u001b[1;32m    247\u001b[0m     \u001b[0;32mdef\u001b[0m \u001b[0m_run_script\u001b[0m\u001b[0;34m(\u001b[0m\u001b[0mself\u001b[0m\u001b[0;34m,\u001b[0m \u001b[0mp\u001b[0m\u001b[0;34m,\u001b[0m \u001b[0mcell\u001b[0m\u001b[0;34m,\u001b[0m \u001b[0mto_close\u001b[0m\u001b[0;34m)\u001b[0m\u001b[0;34m:\u001b[0m\u001b[0;34m\u001b[0m\u001b[0;34m\u001b[0m\u001b[0m\n",
            "\u001b[0;31mCalledProcessError\u001b[0m: Command 'b'mkdir files/\\ncd files\\nls -larth\\npwd\\ntouch /content/files/sample.txt\\ntouch sample_data/policy.json\\ntouch sample_data/inventory.yaml \\n'' returned non-zero exit status 1."
          ]
        }
      ]
    },
    {
      "cell_type": "code",
      "source": [
        "!cat ~/.jupyter/jupyter_notebook_config.py | grep \"c.NotebookApp.notebook_dir = \"\n",
        "!echo \"c.NotebookApp.notebook_dir = '/content/files'\" >> ~/.jupyter/jupyter_notebook_config.py\n",
        "!cat ~/.jupyter/jupyter_notebook_config.py | grep \"c.NotebookApp.notebook_dir = \"\n",
        "\n",
        "\n",
        "# tried to change the default wor dir in jypter cells...."
      ],
      "metadata": {
        "colab": {
          "base_uri": "https://localhost:8080/",
          "height": 0
        },
        "collapsed": true,
        "id": "ewNR7fgGDIAx",
        "outputId": "b916ddae-e1a3-468f-bd84-a2804dd3ed76"
      },
      "execution_count": 20,
      "outputs": [
        {
          "output_type": "stream",
          "name": "stdout",
          "text": [
            "# c.NotebookApp.notebook_dir = ''\n",
            "c.NotebookApp.notebook_dir = '/content/files'\n",
            "# c.NotebookApp.notebook_dir = ''\n",
            "c.NotebookApp.notebook_dir = '/content/files'\n",
            "c.NotebookApp.notebook_dir = '/content/files'\n"
          ]
        }
      ]
    },
    {
      "cell_type": "code",
      "source": [
        "file_path = \"/content/files/sample.txt\"\n",
        "with open(file_path,'w') as my_file:\n",
        "  my_file.write(\"hello hi namasthe\\n line2\")\n",
        "\n",
        "my_file.close()\n",
        "# write some content to a file\n"
      ],
      "metadata": {
        "id": "cGZ1nP6aDIHZ"
      },
      "execution_count": 17,
      "outputs": []
    },
    {
      "cell_type": "code",
      "source": [
        "!cat /content/files/sample.txt\n",
        "\n",
        "# same above thing using python\n",
        "my_file = open(file_path)\n",
        "content = my_file.read()\n",
        "my_file.close()\n",
        "print(\"\\n\"+content)\n",
        "print(\"----------\")\n",
        "print(content[10])\n",
        "\n",
        "print(\"----------\")\n",
        "# readlines  ---> each line as a list element...\n",
        "with open(file_path) as f:   # using with, we don't have to explicitly close a file..\n",
        "  content1 = f.readlines()\n",
        "  print(content1)\n",
        "\n"
      ],
      "metadata": {
        "colab": {
          "base_uri": "https://localhost:8080/",
          "height": 0
        },
        "id": "eEPzd-tZDIK5",
        "outputId": "cbbbf83b-031d-4620-e79f-3f8f318f76a3"
      },
      "execution_count": 18,
      "outputs": [
        {
          "output_type": "stream",
          "name": "stdout",
          "text": [
            "hello hi namasthe\n",
            " line2\n",
            "hello hi namasthe\n",
            " line2\n",
            "a\n",
            "['hello hi namasthe\\n', ' line2']\n"
          ]
        }
      ]
    },
    {
      "cell_type": "code",
      "source": [
        "with open(file_path,'a') as f:  # a for append\n",
        "  f.write(\"\\n vanakkam\")\n",
        "\n",
        "with open(file_path) as f1:\n",
        "  content = f1.read()\n",
        "  print(content)\n",
        "\n"
      ],
      "metadata": {
        "colab": {
          "base_uri": "https://localhost:8080/",
          "height": 0
        },
        "id": "tUfvtutlDIOV",
        "outputId": "ffa1742c-897c-4c21-9348-f1b8a2f05c19"
      },
      "execution_count": 19,
      "outputs": [
        {
          "output_type": "stream",
          "name": "stdout",
          "text": [
            "hello hi namasthe\n",
            " line2\n",
            " vanakkam\n"
          ]
        }
      ]
    },
    {
      "cell_type": "code",
      "source": [
        "# You can define environment variables and application runtimes in a file named .envrc;\n",
        "# To write BINARY data, you can safely use wb or ab.\n"
      ],
      "metadata": {
        "id": "Oj2IIUI5DISX"
      },
      "execution_count": null,
      "outputs": []
    },
    {
      "cell_type": "code",
      "source": [
        "import pathlib\n",
        "\n",
        "path = pathlib.Path(file_path)\n",
        "path.read_text()\n",
        "\n",
        "path.read_bytes()\n",
        "\n",
        "print(\"----\")\n",
        "\n",
        "path.write_text(\"\\n bonjuer\")\n",
        "\n",
        "path.read_text()"
      ],
      "metadata": {
        "colab": {
          "base_uri": "https://localhost:8080/",
          "height": 53
        },
        "id": "JUXMM5DpDIVV",
        "outputId": "e999c351-267e-4f4f-d495-831d2a1523a6"
      },
      "execution_count": 23,
      "outputs": [
        {
          "output_type": "stream",
          "name": "stdout",
          "text": [
            "----\n"
          ]
        },
        {
          "output_type": "execute_result",
          "data": {
            "text/plain": [
              "'\\n bonjuer'"
            ],
            "application/vnd.google.colaboratory.intrinsic+json": {
              "type": "string"
            }
          },
          "metadata": {},
          "execution_count": 23
        }
      ]
    },
    {
      "cell_type": "code",
      "source": [
        "# loading json files and pretty print..\n",
        "json_file = \"sample_data/anscombe.json\"\n",
        "with open(json_file) as f:\n",
        "  content = f.readlines()\n",
        "\n",
        "print(content)\n",
        "\n",
        "# for json files, the output might not be readable, use json object..\n",
        "import json\n",
        "\n",
        "with open(json_file) as f:\n",
        "  content = json.load(f)\n",
        "print(content)\n",
        "\n",
        "# to print list in pretty manner use pprint:\n",
        "from pprint import pprint\n",
        "pprint(content)\n",
        "\n",
        "\n"
      ],
      "metadata": {
        "colab": {
          "base_uri": "https://localhost:8080/"
        },
        "collapsed": true,
        "id": "1j8kAFIEoa3K",
        "outputId": "f8557b5e-e4a3-441e-de2a-6ad3c273a1e1"
      },
      "execution_count": 3,
      "outputs": [
        {
          "output_type": "stream",
          "name": "stdout",
          "text": [
            "['[\\n', '  {\"Series\":\"I\", \"X\":10.0, \"Y\":8.04},\\n', '  {\"Series\":\"I\", \"X\":8.0, \"Y\":6.95},\\n', '  {\"Series\":\"I\", \"X\":13.0, \"Y\":7.58},\\n', '  {\"Series\":\"I\", \"X\":9.0, \"Y\":8.81},\\n', '  {\"Series\":\"I\", \"X\":11.0, \"Y\":8.33},\\n', '  {\"Series\":\"I\", \"X\":14.0, \"Y\":9.96},\\n', '  {\"Series\":\"I\", \"X\":6.0, \"Y\":7.24},\\n', '  {\"Series\":\"I\", \"X\":4.0, \"Y\":4.26},\\n', '  {\"Series\":\"I\", \"X\":12.0, \"Y\":10.84},\\n', '  {\"Series\":\"I\", \"X\":7.0, \"Y\":4.81},\\n', '  {\"Series\":\"I\", \"X\":5.0, \"Y\":5.68},\\n', '\\n', '  {\"Series\":\"II\", \"X\":10.0, \"Y\":9.14},\\n', '  {\"Series\":\"II\", \"X\":8.0, \"Y\":8.14},\\n', '  {\"Series\":\"II\", \"X\":13.0, \"Y\":8.74},\\n', '  {\"Series\":\"II\", \"X\":9.0, \"Y\":8.77},\\n', '  {\"Series\":\"II\", \"X\":11.0, \"Y\":9.26},\\n', '  {\"Series\":\"II\", \"X\":14.0, \"Y\":8.10},\\n', '  {\"Series\":\"II\", \"X\":6.0, \"Y\":6.13},\\n', '  {\"Series\":\"II\", \"X\":4.0, \"Y\":3.10},\\n', '  {\"Series\":\"II\", \"X\":12.0, \"Y\":9.13},\\n', '  {\"Series\":\"II\", \"X\":7.0, \"Y\":7.26},\\n', '  {\"Series\":\"II\", \"X\":5.0, \"Y\":4.74},\\n', '\\n', '  {\"Series\":\"III\", \"X\":10.0, \"Y\":7.46},\\n', '  {\"Series\":\"III\", \"X\":8.0, \"Y\":6.77},\\n', '  {\"Series\":\"III\", \"X\":13.0, \"Y\":12.74},\\n', '  {\"Series\":\"III\", \"X\":9.0, \"Y\":7.11},\\n', '  {\"Series\":\"III\", \"X\":11.0, \"Y\":7.81},\\n', '  {\"Series\":\"III\", \"X\":14.0, \"Y\":8.84},\\n', '  {\"Series\":\"III\", \"X\":6.0, \"Y\":6.08},\\n', '  {\"Series\":\"III\", \"X\":4.0, \"Y\":5.39},\\n', '  {\"Series\":\"III\", \"X\":12.0, \"Y\":8.15},\\n', '  {\"Series\":\"III\", \"X\":7.0, \"Y\":6.42},\\n', '  {\"Series\":\"III\", \"X\":5.0, \"Y\":5.73},\\n', '\\n', '  {\"Series\":\"IV\", \"X\":8.0, \"Y\":6.58},\\n', '  {\"Series\":\"IV\", \"X\":8.0, \"Y\":5.76},\\n', '  {\"Series\":\"IV\", \"X\":8.0, \"Y\":7.71},\\n', '  {\"Series\":\"IV\", \"X\":8.0, \"Y\":8.84},\\n', '  {\"Series\":\"IV\", \"X\":8.0, \"Y\":8.47},\\n', '  {\"Series\":\"IV\", \"X\":8.0, \"Y\":7.04},\\n', '  {\"Series\":\"IV\", \"X\":8.0, \"Y\":5.25},\\n', '  {\"Series\":\"IV\", \"X\":19.0, \"Y\":12.50},\\n', '  {\"Series\":\"IV\", \"X\":8.0, \"Y\":5.56},\\n', '  {\"Series\":\"IV\", \"X\":8.0, \"Y\":7.91},\\n', '  {\"Series\":\"IV\", \"X\":8.0, \"Y\":6.89}\\n', ']\\n']\n",
            "[{'Series': 'I', 'X': 10.0, 'Y': 8.04}, {'Series': 'I', 'X': 8.0, 'Y': 6.95}, {'Series': 'I', 'X': 13.0, 'Y': 7.58}, {'Series': 'I', 'X': 9.0, 'Y': 8.81}, {'Series': 'I', 'X': 11.0, 'Y': 8.33}, {'Series': 'I', 'X': 14.0, 'Y': 9.96}, {'Series': 'I', 'X': 6.0, 'Y': 7.24}, {'Series': 'I', 'X': 4.0, 'Y': 4.26}, {'Series': 'I', 'X': 12.0, 'Y': 10.84}, {'Series': 'I', 'X': 7.0, 'Y': 4.81}, {'Series': 'I', 'X': 5.0, 'Y': 5.68}, {'Series': 'II', 'X': 10.0, 'Y': 9.14}, {'Series': 'II', 'X': 8.0, 'Y': 8.14}, {'Series': 'II', 'X': 13.0, 'Y': 8.74}, {'Series': 'II', 'X': 9.0, 'Y': 8.77}, {'Series': 'II', 'X': 11.0, 'Y': 9.26}, {'Series': 'II', 'X': 14.0, 'Y': 8.1}, {'Series': 'II', 'X': 6.0, 'Y': 6.13}, {'Series': 'II', 'X': 4.0, 'Y': 3.1}, {'Series': 'II', 'X': 12.0, 'Y': 9.13}, {'Series': 'II', 'X': 7.0, 'Y': 7.26}, {'Series': 'II', 'X': 5.0, 'Y': 4.74}, {'Series': 'III', 'X': 10.0, 'Y': 7.46}, {'Series': 'III', 'X': 8.0, 'Y': 6.77}, {'Series': 'III', 'X': 13.0, 'Y': 12.74}, {'Series': 'III', 'X': 9.0, 'Y': 7.11}, {'Series': 'III', 'X': 11.0, 'Y': 7.81}, {'Series': 'III', 'X': 14.0, 'Y': 8.84}, {'Series': 'III', 'X': 6.0, 'Y': 6.08}, {'Series': 'III', 'X': 4.0, 'Y': 5.39}, {'Series': 'III', 'X': 12.0, 'Y': 8.15}, {'Series': 'III', 'X': 7.0, 'Y': 6.42}, {'Series': 'III', 'X': 5.0, 'Y': 5.73}, {'Series': 'IV', 'X': 8.0, 'Y': 6.58}, {'Series': 'IV', 'X': 8.0, 'Y': 5.76}, {'Series': 'IV', 'X': 8.0, 'Y': 7.71}, {'Series': 'IV', 'X': 8.0, 'Y': 8.84}, {'Series': 'IV', 'X': 8.0, 'Y': 8.47}, {'Series': 'IV', 'X': 8.0, 'Y': 7.04}, {'Series': 'IV', 'X': 8.0, 'Y': 5.25}, {'Series': 'IV', 'X': 19.0, 'Y': 12.5}, {'Series': 'IV', 'X': 8.0, 'Y': 5.56}, {'Series': 'IV', 'X': 8.0, 'Y': 7.91}, {'Series': 'IV', 'X': 8.0, 'Y': 6.89}]\n",
            "[{'Series': 'I', 'X': 10.0, 'Y': 8.04},\n",
            " {'Series': 'I', 'X': 8.0, 'Y': 6.95},\n",
            " {'Series': 'I', 'X': 13.0, 'Y': 7.58},\n",
            " {'Series': 'I', 'X': 9.0, 'Y': 8.81},\n",
            " {'Series': 'I', 'X': 11.0, 'Y': 8.33},\n",
            " {'Series': 'I', 'X': 14.0, 'Y': 9.96},\n",
            " {'Series': 'I', 'X': 6.0, 'Y': 7.24},\n",
            " {'Series': 'I', 'X': 4.0, 'Y': 4.26},\n",
            " {'Series': 'I', 'X': 12.0, 'Y': 10.84},\n",
            " {'Series': 'I', 'X': 7.0, 'Y': 4.81},\n",
            " {'Series': 'I', 'X': 5.0, 'Y': 5.68},\n",
            " {'Series': 'II', 'X': 10.0, 'Y': 9.14},\n",
            " {'Series': 'II', 'X': 8.0, 'Y': 8.14},\n",
            " {'Series': 'II', 'X': 13.0, 'Y': 8.74},\n",
            " {'Series': 'II', 'X': 9.0, 'Y': 8.77},\n",
            " {'Series': 'II', 'X': 11.0, 'Y': 9.26},\n",
            " {'Series': 'II', 'X': 14.0, 'Y': 8.1},\n",
            " {'Series': 'II', 'X': 6.0, 'Y': 6.13},\n",
            " {'Series': 'II', 'X': 4.0, 'Y': 3.1},\n",
            " {'Series': 'II', 'X': 12.0, 'Y': 9.13},\n",
            " {'Series': 'II', 'X': 7.0, 'Y': 7.26},\n",
            " {'Series': 'II', 'X': 5.0, 'Y': 4.74},\n",
            " {'Series': 'III', 'X': 10.0, 'Y': 7.46},\n",
            " {'Series': 'III', 'X': 8.0, 'Y': 6.77},\n",
            " {'Series': 'III', 'X': 13.0, 'Y': 12.74},\n",
            " {'Series': 'III', 'X': 9.0, 'Y': 7.11},\n",
            " {'Series': 'III', 'X': 11.0, 'Y': 7.81},\n",
            " {'Series': 'III', 'X': 14.0, 'Y': 8.84},\n",
            " {'Series': 'III', 'X': 6.0, 'Y': 6.08},\n",
            " {'Series': 'III', 'X': 4.0, 'Y': 5.39},\n",
            " {'Series': 'III', 'X': 12.0, 'Y': 8.15},\n",
            " {'Series': 'III', 'X': 7.0, 'Y': 6.42},\n",
            " {'Series': 'III', 'X': 5.0, 'Y': 5.73},\n",
            " {'Series': 'IV', 'X': 8.0, 'Y': 6.58},\n",
            " {'Series': 'IV', 'X': 8.0, 'Y': 5.76},\n",
            " {'Series': 'IV', 'X': 8.0, 'Y': 7.71},\n",
            " {'Series': 'IV', 'X': 8.0, 'Y': 8.84},\n",
            " {'Series': 'IV', 'X': 8.0, 'Y': 8.47},\n",
            " {'Series': 'IV', 'X': 8.0, 'Y': 7.04},\n",
            " {'Series': 'IV', 'X': 8.0, 'Y': 5.25},\n",
            " {'Series': 'IV', 'X': 19.0, 'Y': 12.5},\n",
            " {'Series': 'IV', 'X': 8.0, 'Y': 5.56},\n",
            " {'Series': 'IV', 'X': 8.0, 'Y': 7.91},\n",
            " {'Series': 'IV', 'X': 8.0, 'Y': 6.89}]\n"
          ]
        }
      ]
    },
    {
      "cell_type": "code",
      "source": [
        "# json object modification and updation...\n",
        "policy = {\n",
        "    \"Version\": \"2012-10-17\",\n",
        "    \"Statement\": [\n",
        "        {\n",
        "            \"Effect\": \"Allow\",\n",
        "            \"Action\": [\n",
        "                \"s3:GetObject\",\n",
        "                \"s3:ListBucket\"\n",
        "            ],\n",
        "            \"Resource\": [\n",
        "                \"arn:aws:s3:::example-bucket\",\n",
        "                \"arn:aws:s3:::example-bucket/*\"\n",
        "            ]\n",
        "        }\n",
        "    ]\n",
        "}\n",
        "\n",
        "\n",
        "with open(\"sample_data/policy.json\", 'w') as p:\n",
        "  json.dump(policy,p)\n",
        "\n",
        "with open(\"sample_data/policy.json\") as f:\n",
        "  content = json.load(f)\n",
        "\n",
        "pprint(content)\n",
        "\n",
        "pprint(content['Version'])\n",
        "\n",
        "# update a json value\n",
        "content['Version'] = '2025-10-20'\n",
        "\n",
        "pprint(content['Version'])\n",
        "pprint(content)\n",
        "\n",
        "# to make update in the file:\n",
        "with open(\"sample_data/policy.json\", 'w') as p:\n",
        "  json.dump(content,p)\n",
        "\n",
        "\n"
      ],
      "metadata": {
        "colab": {
          "base_uri": "https://localhost:8080/"
        },
        "id": "LnjbElPRobBm",
        "outputId": "fcdbfd2f-3089-4c9b-c649-4cb0ea2a8e50"
      },
      "execution_count": 4,
      "outputs": [
        {
          "output_type": "stream",
          "name": "stdout",
          "text": [
            "{'Statement': [{'Action': ['s3:GetObject', 's3:ListBucket'],\n",
            "                'Effect': 'Allow',\n",
            "                'Resource': ['arn:aws:s3:::example-bucket',\n",
            "                             'arn:aws:s3:::example-bucket/*']}],\n",
            " 'Version': '2012-10-17'}\n",
            "'2012-10-17'\n",
            "'2025-10-20'\n",
            "{'Statement': [{'Action': ['s3:GetObject', 's3:ListBucket'],\n",
            "                'Effect': 'Allow',\n",
            "                'Resource': ['arn:aws:s3:::example-bucket',\n",
            "                             'arn:aws:s3:::example-bucket/*']}],\n",
            " 'Version': '2025-10-20'}\n"
          ]
        }
      ]
    },
    {
      "cell_type": "code",
      "source": [
        "with open(\"sample_data/policy.json\") as f:\n",
        "  content = json.load(f)\n",
        "\n",
        "pprint(content)"
      ],
      "metadata": {
        "colab": {
          "base_uri": "https://localhost:8080/"
        },
        "id": "PR8XW1DtobGP",
        "outputId": "336674e1-826d-43b7-c3ed-de23f5e65308"
      },
      "execution_count": 5,
      "outputs": [
        {
          "output_type": "stream",
          "name": "stdout",
          "text": [
            "{'Statement': [{'Action': ['s3:GetObject', 's3:ListBucket'],\n",
            "                'Effect': 'Allow',\n",
            "                'Resource': ['arn:aws:s3:::example-bucket',\n",
            "                             'arn:aws:s3:::example-bucket/*']}],\n",
            " 'Version': '2025-10-20'}\n"
          ]
        }
      ]
    },
    {
      "cell_type": "code",
      "source": [
        "# YAML\n",
        "\n",
        "# !pip list | grep PyYaml\n",
        "# !pip install PyYaml  # Requirement already satisfied: PyYaml in /usr/local/lib/python3.11/dist-packages (6.0.2)\n",
        "\n",
        "# !ls sample_data\n",
        "yaml_file = 'sample_data/inventory.yaml'\n",
        "with open(yaml_file, 'w') as i:\n",
        "  content = i.write('''\n",
        "---\n",
        "- hosts: webservers\n",
        "  remote_user: root\n",
        "  vars:\n",
        "    http_port: 80\n",
        "    max_clients: 200\n",
        "  tasks:\n",
        "    - name: ensure apache is at the latest version\n",
        "      yum:\n",
        "        name: httpd\n",
        "        state: latest''')\n",
        "\n",
        "with open(yaml_file) as i:\n",
        "  content = i.read()\n",
        "\n",
        "print(content)\n",
        "\n",
        "# using yaml\n",
        "import yaml\n",
        "with open(yaml_file) as y:\n",
        "  content = yaml.safe_load(y)\n",
        "\n",
        "print('-----------')\n",
        "pprint(content)"
      ],
      "metadata": {
        "colab": {
          "base_uri": "https://localhost:8080/"
        },
        "id": "3TkFks3nobKc",
        "outputId": "b656a052-3e97-4cdd-9fa2-0020f0c1412e"
      },
      "execution_count": 7,
      "outputs": [
        {
          "output_type": "stream",
          "name": "stdout",
          "text": [
            "\n",
            "---\n",
            "- hosts: webservers\n",
            "  remote_user: root\n",
            "  vars:\n",
            "    http_port: 80\n",
            "    max_clients: 200\n",
            "  tasks:\n",
            "    - name: ensure apache is at the latest version\n",
            "      yum:\n",
            "        name: httpd\n",
            "        state: latest\n",
            "-----------\n",
            "[{'hosts': 'webservers',\n",
            "  'remote_user': 'root',\n",
            "  'tasks': [{'name': 'ensure apache is at the latest version',\n",
            "             'yum': {'name': 'httpd', 'state': 'latest'}}],\n",
            "  'vars': {'http_port': 80, 'max_clients': 200}}]\n"
          ]
        }
      ]
    },
    {
      "cell_type": "code",
      "source": [
        "# for XML files\n",
        "# import xml.etree.ElementTree as ET"
      ],
      "metadata": {
        "id": "v_nHoxWYtOdu"
      },
      "execution_count": 8,
      "outputs": []
    },
    {
      "cell_type": "code",
      "source": [
        "import csv\n",
        "csv_file = 'sample_data/california_housing_test.csv'\n",
        "\n",
        "with open(csv_file,'r') as c:\n",
        "  content = csv.reader(c, delimiter=  ',')\n",
        "  for i in range(5):\n",
        "    print(next(content))  # next can be used for open files..\n",
        "\n"
      ],
      "metadata": {
        "colab": {
          "base_uri": "https://localhost:8080/"
        },
        "id": "PIHzirH-tO0P",
        "outputId": "fa6e9afe-df72-4b25-d59a-a513780901c3"
      },
      "execution_count": 24,
      "outputs": [
        {
          "output_type": "stream",
          "name": "stdout",
          "text": [
            "['longitude', 'latitude', 'housing_median_age', 'total_rooms', 'total_bedrooms', 'population', 'households', 'median_income', 'median_house_value']\n",
            "['-122.050000', '37.370000', '27.000000', '3885.000000', '661.000000', '1537.000000', '606.000000', '6.608500', '344700.000000']\n",
            "['-118.300000', '34.260000', '43.000000', '1510.000000', '310.000000', '809.000000', '277.000000', '3.599000', '176500.000000']\n",
            "['-117.810000', '33.780000', '27.000000', '3589.000000', '507.000000', '1484.000000', '495.000000', '5.793400', '270500.000000']\n",
            "['-118.360000', '33.820000', '28.000000', '67.000000', '15.000000', '49.000000', '11.000000', '6.135900', '330000.000000']\n"
          ]
        }
      ]
    },
    {
      "cell_type": "code",
      "source": [
        "# pandas for csv\n",
        "import pandas as pd\n",
        "\n",
        "df = pd.read_csv(csv_file)\n",
        "df.describe()\n",
        "\n",
        "df.head()"
      ],
      "metadata": {
        "colab": {
          "base_uri": "https://localhost:8080/",
          "height": 226
        },
        "id": "RH0RBAK3tPHu",
        "outputId": "609cc842-8a36-4ebb-811d-e3159b694978"
      },
      "execution_count": 29,
      "outputs": [
        {
          "output_type": "execute_result",
          "data": {
            "text/plain": [
              "   longitude  latitude  housing_median_age  total_rooms  total_bedrooms  \\\n",
              "0    -122.05     37.37                27.0       3885.0           661.0   \n",
              "1    -118.30     34.26                43.0       1510.0           310.0   \n",
              "2    -117.81     33.78                27.0       3589.0           507.0   \n",
              "3    -118.36     33.82                28.0         67.0            15.0   \n",
              "4    -119.67     36.33                19.0       1241.0           244.0   \n",
              "\n",
              "   population  households  median_income  median_house_value  \n",
              "0      1537.0       606.0         6.6085            344700.0  \n",
              "1       809.0       277.0         3.5990            176500.0  \n",
              "2      1484.0       495.0         5.7934            270500.0  \n",
              "3        49.0        11.0         6.1359            330000.0  \n",
              "4       850.0       237.0         2.9375             81700.0  "
            ],
            "text/html": [
              "\n",
              "  <div id=\"df-6b8efb29-4992-4794-9206-16f3c4ee9491\" class=\"colab-df-container\">\n",
              "    <div>\n",
              "<style scoped>\n",
              "    .dataframe tbody tr th:only-of-type {\n",
              "        vertical-align: middle;\n",
              "    }\n",
              "\n",
              "    .dataframe tbody tr th {\n",
              "        vertical-align: top;\n",
              "    }\n",
              "\n",
              "    .dataframe thead th {\n",
              "        text-align: right;\n",
              "    }\n",
              "</style>\n",
              "<table border=\"1\" class=\"dataframe\">\n",
              "  <thead>\n",
              "    <tr style=\"text-align: right;\">\n",
              "      <th></th>\n",
              "      <th>longitude</th>\n",
              "      <th>latitude</th>\n",
              "      <th>housing_median_age</th>\n",
              "      <th>total_rooms</th>\n",
              "      <th>total_bedrooms</th>\n",
              "      <th>population</th>\n",
              "      <th>households</th>\n",
              "      <th>median_income</th>\n",
              "      <th>median_house_value</th>\n",
              "    </tr>\n",
              "  </thead>\n",
              "  <tbody>\n",
              "    <tr>\n",
              "      <th>0</th>\n",
              "      <td>-122.05</td>\n",
              "      <td>37.37</td>\n",
              "      <td>27.0</td>\n",
              "      <td>3885.0</td>\n",
              "      <td>661.0</td>\n",
              "      <td>1537.0</td>\n",
              "      <td>606.0</td>\n",
              "      <td>6.6085</td>\n",
              "      <td>344700.0</td>\n",
              "    </tr>\n",
              "    <tr>\n",
              "      <th>1</th>\n",
              "      <td>-118.30</td>\n",
              "      <td>34.26</td>\n",
              "      <td>43.0</td>\n",
              "      <td>1510.0</td>\n",
              "      <td>310.0</td>\n",
              "      <td>809.0</td>\n",
              "      <td>277.0</td>\n",
              "      <td>3.5990</td>\n",
              "      <td>176500.0</td>\n",
              "    </tr>\n",
              "    <tr>\n",
              "      <th>2</th>\n",
              "      <td>-117.81</td>\n",
              "      <td>33.78</td>\n",
              "      <td>27.0</td>\n",
              "      <td>3589.0</td>\n",
              "      <td>507.0</td>\n",
              "      <td>1484.0</td>\n",
              "      <td>495.0</td>\n",
              "      <td>5.7934</td>\n",
              "      <td>270500.0</td>\n",
              "    </tr>\n",
              "    <tr>\n",
              "      <th>3</th>\n",
              "      <td>-118.36</td>\n",
              "      <td>33.82</td>\n",
              "      <td>28.0</td>\n",
              "      <td>67.0</td>\n",
              "      <td>15.0</td>\n",
              "      <td>49.0</td>\n",
              "      <td>11.0</td>\n",
              "      <td>6.1359</td>\n",
              "      <td>330000.0</td>\n",
              "    </tr>\n",
              "    <tr>\n",
              "      <th>4</th>\n",
              "      <td>-119.67</td>\n",
              "      <td>36.33</td>\n",
              "      <td>19.0</td>\n",
              "      <td>1241.0</td>\n",
              "      <td>244.0</td>\n",
              "      <td>850.0</td>\n",
              "      <td>237.0</td>\n",
              "      <td>2.9375</td>\n",
              "      <td>81700.0</td>\n",
              "    </tr>\n",
              "  </tbody>\n",
              "</table>\n",
              "</div>\n",
              "    <div class=\"colab-df-buttons\">\n",
              "\n",
              "  <div class=\"colab-df-container\">\n",
              "    <button class=\"colab-df-convert\" onclick=\"convertToInteractive('df-6b8efb29-4992-4794-9206-16f3c4ee9491')\"\n",
              "            title=\"Convert this dataframe to an interactive table.\"\n",
              "            style=\"display:none;\">\n",
              "\n",
              "  <svg xmlns=\"http://www.w3.org/2000/svg\" height=\"24px\" viewBox=\"0 -960 960 960\">\n",
              "    <path d=\"M120-120v-720h720v720H120Zm60-500h600v-160H180v160Zm220 220h160v-160H400v160Zm0 220h160v-160H400v160ZM180-400h160v-160H180v160Zm440 0h160v-160H620v160ZM180-180h160v-160H180v160Zm440 0h160v-160H620v160Z\"/>\n",
              "  </svg>\n",
              "    </button>\n",
              "\n",
              "  <style>\n",
              "    .colab-df-container {\n",
              "      display:flex;\n",
              "      gap: 12px;\n",
              "    }\n",
              "\n",
              "    .colab-df-convert {\n",
              "      background-color: #E8F0FE;\n",
              "      border: none;\n",
              "      border-radius: 50%;\n",
              "      cursor: pointer;\n",
              "      display: none;\n",
              "      fill: #1967D2;\n",
              "      height: 32px;\n",
              "      padding: 0 0 0 0;\n",
              "      width: 32px;\n",
              "    }\n",
              "\n",
              "    .colab-df-convert:hover {\n",
              "      background-color: #E2EBFA;\n",
              "      box-shadow: 0px 1px 2px rgba(60, 64, 67, 0.3), 0px 1px 3px 1px rgba(60, 64, 67, 0.15);\n",
              "      fill: #174EA6;\n",
              "    }\n",
              "\n",
              "    .colab-df-buttons div {\n",
              "      margin-bottom: 4px;\n",
              "    }\n",
              "\n",
              "    [theme=dark] .colab-df-convert {\n",
              "      background-color: #3B4455;\n",
              "      fill: #D2E3FC;\n",
              "    }\n",
              "\n",
              "    [theme=dark] .colab-df-convert:hover {\n",
              "      background-color: #434B5C;\n",
              "      box-shadow: 0px 1px 3px 1px rgba(0, 0, 0, 0.15);\n",
              "      filter: drop-shadow(0px 1px 2px rgba(0, 0, 0, 0.3));\n",
              "      fill: #FFFFFF;\n",
              "    }\n",
              "  </style>\n",
              "\n",
              "    <script>\n",
              "      const buttonEl =\n",
              "        document.querySelector('#df-6b8efb29-4992-4794-9206-16f3c4ee9491 button.colab-df-convert');\n",
              "      buttonEl.style.display =\n",
              "        google.colab.kernel.accessAllowed ? 'block' : 'none';\n",
              "\n",
              "      async function convertToInteractive(key) {\n",
              "        const element = document.querySelector('#df-6b8efb29-4992-4794-9206-16f3c4ee9491');\n",
              "        const dataTable =\n",
              "          await google.colab.kernel.invokeFunction('convertToInteractive',\n",
              "                                                    [key], {});\n",
              "        if (!dataTable) return;\n",
              "\n",
              "        const docLinkHtml = 'Like what you see? Visit the ' +\n",
              "          '<a target=\"_blank\" href=https://colab.research.google.com/notebooks/data_table.ipynb>data table notebook</a>'\n",
              "          + ' to learn more about interactive tables.';\n",
              "        element.innerHTML = '';\n",
              "        dataTable['output_type'] = 'display_data';\n",
              "        await google.colab.output.renderOutput(dataTable, element);\n",
              "        const docLink = document.createElement('div');\n",
              "        docLink.innerHTML = docLinkHtml;\n",
              "        element.appendChild(docLink);\n",
              "      }\n",
              "    </script>\n",
              "  </div>\n",
              "\n",
              "\n",
              "<div id=\"df-5ec0bf37-ea5d-4a13-bc97-6eefc829cab7\">\n",
              "  <button class=\"colab-df-quickchart\" onclick=\"quickchart('df-5ec0bf37-ea5d-4a13-bc97-6eefc829cab7')\"\n",
              "            title=\"Suggest charts\"\n",
              "            style=\"display:none;\">\n",
              "\n",
              "<svg xmlns=\"http://www.w3.org/2000/svg\" height=\"24px\"viewBox=\"0 0 24 24\"\n",
              "     width=\"24px\">\n",
              "    <g>\n",
              "        <path d=\"M19 3H5c-1.1 0-2 .9-2 2v14c0 1.1.9 2 2 2h14c1.1 0 2-.9 2-2V5c0-1.1-.9-2-2-2zM9 17H7v-7h2v7zm4 0h-2V7h2v10zm4 0h-2v-4h2v4z\"/>\n",
              "    </g>\n",
              "</svg>\n",
              "  </button>\n",
              "\n",
              "<style>\n",
              "  .colab-df-quickchart {\n",
              "      --bg-color: #E8F0FE;\n",
              "      --fill-color: #1967D2;\n",
              "      --hover-bg-color: #E2EBFA;\n",
              "      --hover-fill-color: #174EA6;\n",
              "      --disabled-fill-color: #AAA;\n",
              "      --disabled-bg-color: #DDD;\n",
              "  }\n",
              "\n",
              "  [theme=dark] .colab-df-quickchart {\n",
              "      --bg-color: #3B4455;\n",
              "      --fill-color: #D2E3FC;\n",
              "      --hover-bg-color: #434B5C;\n",
              "      --hover-fill-color: #FFFFFF;\n",
              "      --disabled-bg-color: #3B4455;\n",
              "      --disabled-fill-color: #666;\n",
              "  }\n",
              "\n",
              "  .colab-df-quickchart {\n",
              "    background-color: var(--bg-color);\n",
              "    border: none;\n",
              "    border-radius: 50%;\n",
              "    cursor: pointer;\n",
              "    display: none;\n",
              "    fill: var(--fill-color);\n",
              "    height: 32px;\n",
              "    padding: 0;\n",
              "    width: 32px;\n",
              "  }\n",
              "\n",
              "  .colab-df-quickchart:hover {\n",
              "    background-color: var(--hover-bg-color);\n",
              "    box-shadow: 0 1px 2px rgba(60, 64, 67, 0.3), 0 1px 3px 1px rgba(60, 64, 67, 0.15);\n",
              "    fill: var(--button-hover-fill-color);\n",
              "  }\n",
              "\n",
              "  .colab-df-quickchart-complete:disabled,\n",
              "  .colab-df-quickchart-complete:disabled:hover {\n",
              "    background-color: var(--disabled-bg-color);\n",
              "    fill: var(--disabled-fill-color);\n",
              "    box-shadow: none;\n",
              "  }\n",
              "\n",
              "  .colab-df-spinner {\n",
              "    border: 2px solid var(--fill-color);\n",
              "    border-color: transparent;\n",
              "    border-bottom-color: var(--fill-color);\n",
              "    animation:\n",
              "      spin 1s steps(1) infinite;\n",
              "  }\n",
              "\n",
              "  @keyframes spin {\n",
              "    0% {\n",
              "      border-color: transparent;\n",
              "      border-bottom-color: var(--fill-color);\n",
              "      border-left-color: var(--fill-color);\n",
              "    }\n",
              "    20% {\n",
              "      border-color: transparent;\n",
              "      border-left-color: var(--fill-color);\n",
              "      border-top-color: var(--fill-color);\n",
              "    }\n",
              "    30% {\n",
              "      border-color: transparent;\n",
              "      border-left-color: var(--fill-color);\n",
              "      border-top-color: var(--fill-color);\n",
              "      border-right-color: var(--fill-color);\n",
              "    }\n",
              "    40% {\n",
              "      border-color: transparent;\n",
              "      border-right-color: var(--fill-color);\n",
              "      border-top-color: var(--fill-color);\n",
              "    }\n",
              "    60% {\n",
              "      border-color: transparent;\n",
              "      border-right-color: var(--fill-color);\n",
              "    }\n",
              "    80% {\n",
              "      border-color: transparent;\n",
              "      border-right-color: var(--fill-color);\n",
              "      border-bottom-color: var(--fill-color);\n",
              "    }\n",
              "    90% {\n",
              "      border-color: transparent;\n",
              "      border-bottom-color: var(--fill-color);\n",
              "    }\n",
              "  }\n",
              "</style>\n",
              "\n",
              "  <script>\n",
              "    async function quickchart(key) {\n",
              "      const quickchartButtonEl =\n",
              "        document.querySelector('#' + key + ' button');\n",
              "      quickchartButtonEl.disabled = true;  // To prevent multiple clicks.\n",
              "      quickchartButtonEl.classList.add('colab-df-spinner');\n",
              "      try {\n",
              "        const charts = await google.colab.kernel.invokeFunction(\n",
              "            'suggestCharts', [key], {});\n",
              "      } catch (error) {\n",
              "        console.error('Error during call to suggestCharts:', error);\n",
              "      }\n",
              "      quickchartButtonEl.classList.remove('colab-df-spinner');\n",
              "      quickchartButtonEl.classList.add('colab-df-quickchart-complete');\n",
              "    }\n",
              "    (() => {\n",
              "      let quickchartButtonEl =\n",
              "        document.querySelector('#df-5ec0bf37-ea5d-4a13-bc97-6eefc829cab7 button');\n",
              "      quickchartButtonEl.style.display =\n",
              "        google.colab.kernel.accessAllowed ? 'block' : 'none';\n",
              "    })();\n",
              "  </script>\n",
              "</div>\n",
              "\n",
              "    </div>\n",
              "  </div>\n"
            ],
            "application/vnd.google.colaboratory.intrinsic+json": {
              "type": "dataframe",
              "variable_name": "df",
              "summary": "{\n  \"name\": \"df\",\n  \"rows\": 3000,\n  \"fields\": [\n    {\n      \"column\": \"longitude\",\n      \"properties\": {\n        \"dtype\": \"number\",\n        \"std\": 1.9949362939550161,\n        \"min\": -124.18,\n        \"max\": -114.49,\n        \"num_unique_values\": 607,\n        \"samples\": [\n          -121.15,\n          -121.46,\n          -121.02\n        ],\n        \"semantic_type\": \"\",\n        \"description\": \"\"\n      }\n    },\n    {\n      \"column\": \"latitude\",\n      \"properties\": {\n        \"dtype\": \"number\",\n        \"std\": 2.1296695233438325,\n        \"min\": 32.56,\n        \"max\": 41.92,\n        \"num_unique_values\": 587,\n        \"samples\": [\n          40.17,\n          33.69,\n          39.61\n        ],\n        \"semantic_type\": \"\",\n        \"description\": \"\"\n      }\n    },\n    {\n      \"column\": \"housing_median_age\",\n      \"properties\": {\n        \"dtype\": \"number\",\n        \"std\": 12.555395554955755,\n        \"min\": 1.0,\n        \"max\": 52.0,\n        \"num_unique_values\": 52,\n        \"samples\": [\n          14.0,\n          49.0,\n          7.0\n        ],\n        \"semantic_type\": \"\",\n        \"description\": \"\"\n      }\n    },\n    {\n      \"column\": \"total_rooms\",\n      \"properties\": {\n        \"dtype\": \"number\",\n        \"std\": 2155.59333162558,\n        \"min\": 6.0,\n        \"max\": 30450.0,\n        \"num_unique_values\": 2215,\n        \"samples\": [\n          1961.0,\n          1807.0,\n          680.0\n        ],\n        \"semantic_type\": \"\",\n        \"description\": \"\"\n      }\n    },\n    {\n      \"column\": \"total_bedrooms\",\n      \"properties\": {\n        \"dtype\": \"number\",\n        \"std\": 415.6543681363232,\n        \"min\": 2.0,\n        \"max\": 5419.0,\n        \"num_unique_values\": 1055,\n        \"samples\": [\n          532.0,\n          764.0,\n          2162.0\n        ],\n        \"semantic_type\": \"\",\n        \"description\": \"\"\n      }\n    },\n    {\n      \"column\": \"population\",\n      \"properties\": {\n        \"dtype\": \"number\",\n        \"std\": 1030.5430124122422,\n        \"min\": 5.0,\n        \"max\": 11935.0,\n        \"num_unique_values\": 1802,\n        \"samples\": [\n          947.0,\n          1140.0,\n          2019.0\n        ],\n        \"semantic_type\": \"\",\n        \"description\": \"\"\n      }\n    },\n    {\n      \"column\": \"households\",\n      \"properties\": {\n        \"dtype\": \"number\",\n        \"std\": 365.42270980552604,\n        \"min\": 2.0,\n        \"max\": 4930.0,\n        \"num_unique_values\": 1026,\n        \"samples\": [\n          646.0,\n          629.0,\n          504.0\n        ],\n        \"semantic_type\": \"\",\n        \"description\": \"\"\n      }\n    },\n    {\n      \"column\": \"median_income\",\n      \"properties\": {\n        \"dtype\": \"number\",\n        \"std\": 1.854511729691481,\n        \"min\": 0.4999,\n        \"max\": 15.0001,\n        \"num_unique_values\": 2578,\n        \"samples\": [\n          1.725,\n          0.7403,\n          2.6964\n        ],\n        \"semantic_type\": \"\",\n        \"description\": \"\"\n      }\n    },\n    {\n      \"column\": \"median_house_value\",\n      \"properties\": {\n        \"dtype\": \"number\",\n        \"std\": 113119.68746964433,\n        \"min\": 22500.0,\n        \"max\": 500001.0,\n        \"num_unique_values\": 1784,\n        \"samples\": [\n          71900.0,\n          63000.0,\n          115800.0\n        ],\n        \"semantic_type\": \"\",\n        \"description\": \"\"\n      }\n    }\n  ]\n}"
            }
          },
          "metadata": {},
          "execution_count": 29
        }
      ]
    },
    {
      "cell_type": "code",
      "source": [
        "# windows using \"/r /n\"  ---> for line endings...\n",
        "# if we want to translate the line endings based on OS, (like dos2unix)\n",
        "\n",
        "# read each line of the file and write it in a new file, python will take care of...\n",
        "\n",
        "with open(\"sample_data/anscombe.json\",'r') as f:\n",
        "  with open(\"sample_data/sample_data.txt\",'w') as w:\n",
        "    for line in f:\n",
        "      w.write(line)"
      ],
      "metadata": {
        "id": "l77XfxhqtPL_"
      },
      "execution_count": 1,
      "outputs": []
    },
    {
      "cell_type": "code",
      "source": [
        "# using generator for reading larget files and using function for reusablilty..\n",
        "\n",
        "def line_reader(file_path):\n",
        "    with open(file_path, 'r') as source_file:\n",
        "        for line in source_file:\n",
        "            yield line                 #### since we used yield here, not all lines will be read at once\n",
        "\n",
        "reader = line_reader('sample_data/sample_data.txt')\n",
        "\n",
        "with open('big-data-corrected.txt', 'w') as target_file:\n",
        "    for line in reader:\n",
        "        target_file.write(line)            #### each time it yields a new line by calling function..\n"
      ],
      "metadata": {
        "id": "KGoLV2nttPPI"
      },
      "execution_count": 2,
      "outputs": []
    },
    {
      "cell_type": "code",
      "source": [
        "# we can also read binary files and update in chunks...\n",
        "\n",
        "with open('bb141548a754113e.jpg', 'rb') as source_file:\n",
        "  while True:\n",
        "    chunk = source_file.read(1024)\n",
        "    if chunk:\n",
        "      process_data(chunk) # process_data - function to write in a new file...\n",
        "    else:\n",
        "      break"
      ],
      "metadata": {
        "id": "b70gHY94tPSR"
      },
      "execution_count": null,
      "outputs": []
    },
    {
      "cell_type": "code",
      "source": [
        "# Hashing algo\n",
        "\n",
        "# hashlib\n",
        "\n",
        "import hashlib\n",
        "\n",
        "secret = \"this is password or document text\"\n",
        "\n",
        "bsecret = secret.encode()  # convert text to binary.. # we can hash only binary files..\n",
        "\n",
        "m = hashlib.md5()  # SHA1, SHA224, SHA384, SHA512, and RSA’s MD5. # other alog's for hashing..\n",
        "m.update(bsecret)\n",
        "\n",
        "print(m.digest())  # to show the hash...\n",
        "m.hexdigest()\n",
        "\n",
        "# usecases -> to check data integrity\n",
        "# passwords are stored in hashes and when a user enters the password it compares with the stored hash.\n",
        "# checksum\n",
        "# https -  signing and verifying authenticity.\n"
      ],
      "metadata": {
        "colab": {
          "base_uri": "https://localhost:8080/",
          "height": 53
        },
        "id": "NTJpWSRJtPVV",
        "outputId": "fd4b65a4-7298-4e7c-f097-c7514059bd9c"
      },
      "execution_count": 5,
      "outputs": [
        {
          "output_type": "stream",
          "name": "stdout",
          "text": [
            "b'\\x08\\xa0c\\x06i\\x96\\xb0\\x0b\\x0f\\x9a\\x97\\x0b\\x13\\xf3\\xc9@'\n"
          ]
        },
        {
          "output_type": "execute_result",
          "data": {
            "text/plain": [
              "'08a063066996b00b0f9a970b13f3c940'"
            ],
            "application/vnd.google.colaboratory.intrinsic+json": {
              "type": "string"
            }
          },
          "metadata": {},
          "execution_count": 5
        }
      ]
    },
    {
      "cell_type": "code",
      "source": [
        "!pip list | grep crypto"
      ],
      "metadata": {
        "colab": {
          "base_uri": "https://localhost:8080/"
        },
        "id": "IzLs4eWUeRu2",
        "outputId": "b5dc56d8-5a1a-420b-e573-3772046ab118"
      },
      "execution_count": 7,
      "outputs": [
        {
          "output_type": "stream",
          "name": "stdout",
          "text": [
            "cryptography                       43.0.3\n"
          ]
        }
      ]
    },
    {
      "cell_type": "code",
      "source": [
        "# cryptography..\n",
        "\n",
        "from cryptography.fernet import Fernet\n",
        "\n",
        "# symetric keys:::\n",
        "key = Fernet.generate_key()          # generate encryption key (or) password for encrypt and decrypt\n",
        "print(key)\n",
        "\n",
        "f = Fernet(key)\n",
        "\n",
        "message =  b\"my secrets\"     # \"my secrets\" ❌ , only works for binary data...\n",
        "encrypted = f.encrypt(message)\n",
        "\n",
        "print(encrypted)\n",
        "\n",
        "decrypted = f.decrypt(encrypted)\n",
        "\n",
        "print(decrypted)"
      ],
      "metadata": {
        "colab": {
          "base_uri": "https://localhost:8080/"
        },
        "id": "G9EhI6uheSHE",
        "outputId": "2d1166d8-0a1c-4578-c66c-24f4ca771524"
      },
      "execution_count": 7,
      "outputs": [
        {
          "output_type": "stream",
          "name": "stdout",
          "text": [
            "b'Z80w0t5qbJjWH7FEWf2BpGYBpHCcIZAh4jSdJMZ7xK8='\n",
            "b'gAAAAABn9o1PJP4br0oTST7GOwOxFRX14XM6qxRpiZEXzgJP3BBIdp1rHuLZm30eTTqo4NhXquvgmBSgHuC-1Y3OgmIY_vWMVQ=='\n",
            "b'my secrets'\n"
          ]
        }
      ]
    },
    {
      "cell_type": "code",
      "source": [
        "message =  b\"my secrets\"\n",
        "print(message)\n",
        "\n",
        "print(message.decode())\n",
        "\n",
        "\"my secrets\".encode()\n",
        "\n",
        "# Expression\t        Type\tNotes\n",
        "# b\"hello\"\t         bytes\tLiteral, ASCII only\n",
        "# \"hello\".encode()\t bytes\tConvert string to bytes (Unicode-safe)\n",
        "\n",
        "# by default .encode() --> for ascii, we can also pass ---> 'utf-8', 'utf-16', etc.\n",
        "\n"
      ],
      "metadata": {
        "colab": {
          "base_uri": "https://localhost:8080/"
        },
        "id": "fkApyMbfeSLr",
        "outputId": "ebde263e-16f9-4cf3-8ed7-e2b7ed595015"
      },
      "execution_count": 11,
      "outputs": [
        {
          "output_type": "stream",
          "name": "stdout",
          "text": [
            "b'my secrets'\n",
            "my secrets\n"
          ]
        },
        {
          "output_type": "execute_result",
          "data": {
            "text/plain": [
              "b'my secrets'"
            ]
          },
          "metadata": {},
          "execution_count": 11
        }
      ]
    },
    {
      "cell_type": "code",
      "source": [
        "## Asymetric keys (public and private keys)  - like for SSH\n",
        "\n",
        "from cryptography.hazmat.backends import default_backend\n",
        "from cryptography.hazmat.primitives.asymmetric import rsa\n",
        "\n",
        "private_key = rsa.generate_private_key(public_exponent=65537,key_size=4096, backend=default_backend())\n",
        "\n",
        "print(private_key)\n",
        "\n",
        "public_key = private_key.public_key()\n",
        "\n",
        "print(public_key)"
      ],
      "metadata": {
        "colab": {
          "base_uri": "https://localhost:8080/"
        },
        "id": "R7XXPvGseSO-",
        "outputId": "7f053469-a218-412e-833d-d23f66665e77"
      },
      "execution_count": 13,
      "outputs": [
        {
          "output_type": "stream",
          "name": "stdout",
          "text": [
            "<cryptography.hazmat.bindings._rust.openssl.rsa.RSAPrivateKey object at 0x7f584dcc3550>\n",
            "<cryptography.hazmat.bindings._rust.openssl.rsa.RSAPublicKey object at 0x7f584dcc12f0>\n"
          ]
        }
      ]
    },
    {
      "cell_type": "code",
      "source": [
        "message = b\"More secrets go here\"\n",
        "\n",
        "###\n",
        "from cryptography.hazmat.primitives.asymmetric import padding\n",
        "from cryptography.hazmat.primitives import hashes\n",
        "my_padding = padding.OAEP(mgf=padding.MGF1(algorithm=hashes.SHA256()), algorithm=hashes.SHA256(),label=None)\n",
        "### for padding attributes\n",
        "\n",
        "encrypted = public_key.encrypt(message, my_padding)\n",
        "\n",
        "print(encrypted)\n",
        "\n",
        "decrypted = private_key.decrypt(encrypted, my_padding )\n",
        "\n",
        "print(decrypted)"
      ],
      "metadata": {
        "colab": {
          "base_uri": "https://localhost:8080/"
        },
        "id": "Ge9mpJ3oHVm0",
        "outputId": "eb21714a-435b-4a41-92b8-03fd7370a49a"
      },
      "execution_count": 18,
      "outputs": [
        {
          "output_type": "stream",
          "name": "stdout",
          "text": [
            "b'w\\xc1B\\xbdP\\xdbk\\x8a\\xfd\\'\\x01\\xbcgM\\xb2\\xf7x\\xc4\\xdaF\\xc5\\x9f,-\\x1e/\\xba\\x95\\x8f\\x12\\x1fs\\xb0Jt\\x10\\x93]u\\x86\\xbe\\xae\\xb0\\xa41#0\\x1c\\xe8y0\\xc2D\\x9e\\xe6b\\x07\\x0b\\xc2\\x97\\x86X#K\\xe2\\x05\\x9f\\x00\\xfc\\xff\\xbcl\\x1eD\\xf1\\xdeh\\xdeT@\\x1f1G{\\x1b\\xbc\\x83\\xf0\\xfa\\xc8\\x97oI\\x14\\xec\\xa6\\xb3\\x9b>\\x17\\xcc\\x0e\\x0bW\\x88%\\x9di\\x91 \\x99\\xe1\\x88y6c.V\\x98\\xfb\\x99N@\\x9ff;\\xa1\\xd5P\\xb5$\\x1b\\x97\\x19\\xf4\\xdd\\xb1\\x11\\xa7^\\xdd\\x8b\\'\\xf80\\x00\\n\\xfaU\\xd6\\x0f\\xe6\\xb3{|b\\x88\\xf5kD\\x14\\x0eN\\x1fQ\\xd0:\\xdan\\xb9\\x90Opf\\x92A\\xd2y\\xfcfw=\\xcf\\'\\xef\\x95;\\x0c\\x04\\xae\\xf8:\\xedz\\x85!\\xd4=\\x8a\\x05g\\xc4\\xb6>\\x1b\\xbd\\xfb\\xaar\\x85\\xa7\\xae\\xaeiQ\\x9cq\\xe2\\x0f\\xd7\\xc4\\xbc\\xe1\\x9e\\xf92\\xc5>\\x0c\\x97Z\\xddx\\xd8\\xd4\\xa8}zo\\xff\"O\\xa9\\xa8\\x07B\\xb2I\\xdceQ\\x93\\xfb\\xe6}Uk\\xe5\\xc3\\xeb\\xd8\\xc9\\xad\\xe6J\\x03\\xe5\\x94\\xd7\\xd3\\xc9I\\xe0\\x9f\\xf5\\x80\\xe3m\\xc4\\x81fT3\\xaf\\xa1R\\xb8\\x1a\\x1a\\xb0sI\\x983\\xce\\x93u\\xb1\\x9b}W\\x9aa\\xc5\\xacn8\\x99\\x04\\xfb\\x8aX\\xcb\\xa3\\xcf\\xe8j\\xf3\\xe1`\\x8f\\x8fy\\xc3\\x11\\x0f_1\\xb1\\xa6j\\x82\\x8e\\xb4[\\x01\\x9a\\x9f\\x96>\\xef5\\x01\\x87\\xd9\\xef\\x16\\x07\\xd0\\xcc\\x14\\x8c4*\\x0b\\x96\\x91\\xc2\\x97\\xf1\\xb2\\xd4:*\\x80\\xa2\\xbb\\xb6\\xdfsm\\xdc\\x98\\x8bM\\r\\xd2\\x8f\\xe0\\xdd\\xec\\x05\\xfaUL\\xf2\\xea\\x1d\\xcc\\x82\\x9d\\xd3\\x8f\\xc8@T|IU\\xa4W\\x90\\xf6F\\xc4-\\xe7:\\x08\\xa1\\xc5\\xbf\\x04\\xbe@\\xb1\\x02\\xce. w\\xbc\\xc8\\x12\\x04\\xe8\\xc5\\x1e\\x1d\\xef^\\x03\\xb5\"\\xe2\\x8c\\xff\\xfdJ\\x9b/\\x98\\xa1H\\xe7\\xd6\\xd5\\xb5\\xb5*@\\xf9\\xf3\\xa4\\xb8\\xce\\x06\\xec\\xdc\\xa9z\\x01Bv\\xab\\xdeE:\\xcd\\x84k\\xa7q\\xf7<\\n{:\\x83\\xd0,ANC\\xa4&cn\\xe3k\\xa1{O\\x9e\\xd6\\x978os\\x94NQ\\xea!\\xd5\\xf3\\xc5+\\xc2\\xd1[,'\n",
            "b'More secrets go here'\n"
          ]
        }
      ]
    },
    {
      "cell_type": "code",
      "source": [
        "# OS module\n",
        "\n",
        "import os\n",
        "\n",
        "os.listdir('.')\n",
        "\n"
      ],
      "metadata": {
        "colab": {
          "base_uri": "https://localhost:8080/"
        },
        "id": "HtrrcVlsHVz0",
        "outputId": "d18e062c-7c63-4610-8fd4-8f77ebe0de6b"
      },
      "execution_count": 27,
      "outputs": [
        {
          "output_type": "stream",
          "name": "stdout",
          "text": [
            "active_config\t default_configs.db\t\t\t\t\t\t logs\n",
            "config_sentinel  gce\n",
            "configurations\t hidden_gcloud_config_universe_descriptor_data_cache_configs.db\n"
          ]
        }
      ]
    },
    {
      "cell_type": "code",
      "source": [],
      "metadata": {
        "id": "Vrge_grPHV3k"
      },
      "execution_count": null,
      "outputs": []
    },
    {
      "cell_type": "code",
      "source": [],
      "metadata": {
        "id": "cz-cLD1LHV7-"
      },
      "execution_count": null,
      "outputs": []
    },
    {
      "cell_type": "code",
      "source": [],
      "metadata": {
        "id": "g26Ul_G3HV_P"
      },
      "execution_count": null,
      "outputs": []
    },
    {
      "cell_type": "code",
      "source": [],
      "metadata": {
        "id": "4M_Rq5pteSSo"
      },
      "execution_count": null,
      "outputs": []
    }
  ]
}